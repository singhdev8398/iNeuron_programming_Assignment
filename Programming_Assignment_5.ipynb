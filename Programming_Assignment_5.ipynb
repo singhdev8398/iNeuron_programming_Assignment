{
 "cells": [
  {
   "cell_type": "markdown",
   "id": "a534d683",
   "metadata": {},
   "source": [
    "# 1. Write a Python Program to Find LCM?"
   ]
  },
  {
   "cell_type": "code",
   "execution_count": 6,
   "id": "9bac0677",
   "metadata": {},
   "outputs": [
    {
     "name": "stdout",
     "output_type": "stream",
     "text": [
      "enter the number first20\n",
      "enter the number second25\n",
      "LCM of 20 and 25 is 100\n"
     ]
    }
   ],
   "source": [
    "num1 = int(input(\"enter the number first\"))\n",
    "num2 = int(input(\"enter the number second\"))\n",
    "for i in range(max(num1, num2), 1 + (num1 * num2)):\n",
    "    if i % num1 == i % num2 == 0:\n",
    "        lcm = i\n",
    "        break\n",
    "print(\"LCM of\", num1, \"and\", num2, \"is\", lcm)"
   ]
  },
  {
   "cell_type": "code",
   "execution_count": 4,
   "id": "39ab103c",
   "metadata": {},
   "outputs": [
    {
     "data": {
      "text/plain": [
       "[12, 34, 576, 786, 54]"
      ]
     },
     "execution_count": 4,
     "metadata": {},
     "output_type": "execute_result"
    }
   ],
   "source": []
  },
  {
   "cell_type": "markdown",
   "id": "f4447f74",
   "metadata": {},
   "source": [
    "# 2. Write a Python Program to Find HCF?"
   ]
  },
  {
   "cell_type": "code",
   "execution_count": 1,
   "id": "3a148081",
   "metadata": {},
   "outputs": [
    {
     "name": "stdout",
     "output_type": "stream",
     "text": [
      "enter the number first4\n",
      "enter the number second7\n",
      "Hcf of 4 and 7 is 1\n"
     ]
    }
   ],
   "source": [
    "num1 = int(input(\"enter the number first\"))\n",
    "num2 = int(input(\"enter the number second\"))\n",
    "hcf = 1\n",
    "for i in range(1, min(num1, num2)):\n",
    "    if num1 % i == 0 and num2 % i == 0:\n",
    "        hcf = i\n",
    "print(\"Hcf of\", num1, \"and\", num2, \"is\", hcf)"
   ]
  },
  {
   "cell_type": "markdown",
   "id": "29a9d7fd",
   "metadata": {},
   "source": [
    "# 3. Write a Python Program to Convert Decimal to Binary, Octal and Hexadecimal?"
   ]
  },
  {
   "cell_type": "code",
   "execution_count": 1,
   "id": "bd990905",
   "metadata": {},
   "outputs": [
    {
     "name": "stdout",
     "output_type": "stream",
     "text": [
      "enter the decimal numver2030\n",
      "Binary number 0b11111101110\n",
      "octal number 0o3756\n",
      "hexadecimal number 0x7ee\n"
     ]
    }
   ],
   "source": [
    "decimal=int(input(\"enter the decimal number\"))\n",
    "print(\"Binary number\",bin(decimal))\n",
    "print(\"octal number\",oct(decimal))\n",
    "print(\"hexadecimal number\",hex(decimal))"
   ]
  },
  {
   "cell_type": "markdown",
   "id": "09f0ffbd",
   "metadata": {},
   "source": [
    "# 4. Write a Python Program To Find ASCII value of a character?"
   ]
  },
  {
   "cell_type": "code",
   "execution_count": 3,
   "id": "5b7f431f",
   "metadata": {},
   "outputs": [
    {
     "name": "stdout",
     "output_type": "stream",
     "text": [
      "enter the charatectera\n",
      "97\n"
     ]
    }
   ],
   "source": [
    "char=input(\"enter the charatecter\")\n",
    "print(ord(char))"
   ]
  },
  {
   "cell_type": "markdown",
   "id": "7ba6fb61",
   "metadata": {},
   "source": [
    "# 5. Write a Python Program to Make a Simple Calculator with 4 basic mathematical operations?"
   ]
  },
  {
   "cell_type": "code",
   "execution_count": 5,
   "id": "9049b1c9",
   "metadata": {},
   "outputs": [
    {
     "name": "stdout",
     "output_type": "stream",
     "text": [
      "enter the first number67\n",
      "enter the second number56\n",
      "enter the operator/\n",
      "1.1964285714285714\n"
     ]
    }
   ],
   "source": [
    "a1=int(input(\"enter the first number\"))\n",
    "a2=int(input(\"enter the second number\"))\n",
    "ope=input(\"enter the operator\")\n",
    "if ope==\"+\":\n",
    "    print(a1+a2)\n",
    "elif ope==\"-\":\n",
    "    print(a1-a2)\n",
    "elif ope==\"*\":\n",
    "    print(a1*a2)\n",
    "elif ope==\"/\":\n",
    "    print(a1/a2)   \n",
    "else:\n",
    "    print(\"give the right operetor\")"
   ]
  },
  {
   "cell_type": "code",
   "execution_count": null,
   "id": "198f882c",
   "metadata": {},
   "outputs": [],
   "source": []
  }
 ],
 "metadata": {
  "kernelspec": {
   "display_name": "Python 3 (ipykernel)",
   "language": "python",
   "name": "python3"
  },
  "language_info": {
   "codemirror_mode": {
    "name": "ipython",
    "version": 3
   },
   "file_extension": ".py",
   "mimetype": "text/x-python",
   "name": "python",
   "nbconvert_exporter": "python",
   "pygments_lexer": "ipython3",
   "version": "3.9.12"
  }
 },
 "nbformat": 4,
 "nbformat_minor": 5
}
