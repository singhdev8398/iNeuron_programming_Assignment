{
 "cells": [
  {
   "cell_type": "markdown",
   "id": "3f65c6fe",
   "metadata": {},
   "source": [
    "# 1. Write a Python Program to find sum of array?"
   ]
  },
  {
   "cell_type": "code",
   "execution_count": 1,
   "id": "ee589b44",
   "metadata": {},
   "outputs": [],
   "source": [
    "def sum_array(arr):\n",
    "    sum = 0\n",
    "    for num in arr:\n",
    "        sum += num\n",
    "    return sum\n"
   ]
  },
  {
   "cell_type": "code",
   "execution_count": 2,
   "id": "cd164387",
   "metadata": {},
   "outputs": [
    {
     "name": "stdout",
     "output_type": "stream",
     "text": [
      "15\n"
     ]
    }
   ],
   "source": [
    "array = [1, 2, 3, 4, 5]\n",
    "result = sum_array(array)\n",
    "print(result)"
   ]
  },
  {
   "cell_type": "markdown",
   "id": "2d4d65ab",
   "metadata": {},
   "source": [
    "# 2. Write a Python Program to find largest element in an array?"
   ]
  },
  {
   "cell_type": "code",
   "execution_count": 3,
   "id": "77a22d93",
   "metadata": {},
   "outputs": [
    {
     "name": "stdout",
     "output_type": "stream",
     "text": [
      "8\n"
     ]
    }
   ],
   "source": [
    "def find_largest(arr):\n",
    "    max = arr[0]  # assume the first element is the largest\n",
    "    for num in arr:\n",
    "        if num > max:\n",
    "            max = num\n",
    "    return max\n",
    "\n",
    "\n",
    "array = [4, 2, 8, 5, 1]\n",
    "largest = find_largest(array)\n",
    "print(largest)"
   ]
  },
  {
   "cell_type": "markdown",
   "id": "aa05e165",
   "metadata": {},
   "source": [
    "# 3. Write a Python Program for array rotation?"
   ]
  },
  {
   "cell_type": "code",
   "execution_count": 9,
   "id": "d5add1dd",
   "metadata": {},
   "outputs": [
    {
     "name": "stdout",
     "output_type": "stream",
     "text": [
      "[3, 4, 5, 1, 2]\n"
     ]
    }
   ],
   "source": [
    "def rotate_array(arr, k):\n",
    "    n = len(arr)\n",
    "    k = k % n\n",
    "    rotated = arr[k:] + arr[:k]\n",
    "    return rotated\n",
    "\n",
    "array = [1, 2, 3, 4, 5]\n",
    "rotated = rotate_array(array, 2)\n",
    "print(rotated)"
   ]
  },
  {
   "cell_type": "markdown",
   "id": "608201ff",
   "metadata": {},
   "source": [
    "# 4. Write a Python Program to Split the array and add the first part to the end?"
   ]
  },
  {
   "cell_type": "code",
   "execution_count": 10,
   "id": "f5cdd441",
   "metadata": {},
   "outputs": [
    {
     "name": "stdout",
     "output_type": "stream",
     "text": [
      "[3, 4, 5, 1, 2]\n"
     ]
    }
   ],
   "source": [
    "def split_and_add(arr, k):\n",
    "    n = len(arr)\n",
    "    k = k % n\n",
    "    split = arr[:k]\n",
    "    remaining = arr[k:]\n",
    "    rotated = remaining + split\n",
    "    return rotated\n",
    "\n",
    "array = [1, 2, 3, 4, 5]\n",
    "rotated = split_and_add(array, 2)\n",
    "print(rotated)"
   ]
  },
  {
   "cell_type": "markdown",
   "id": "799d2c4b",
   "metadata": {},
   "source": [
    "# 5. Write a Python Program to check if given array is Monotonic?"
   ]
  },
  {
   "cell_type": "code",
   "execution_count": 11,
   "id": "1d3ac38a",
   "metadata": {},
   "outputs": [
    {
     "name": "stdout",
     "output_type": "stream",
     "text": [
      "True\n",
      "True\n",
      "False\n"
     ]
    }
   ],
   "source": [
    "def is_monotonic(arr):\n",
    "    increasing = decreasing = True\n",
    "    for i in range(1, len(arr)):\n",
    "        if arr[i] < arr[i-1]:\n",
    "            increasing = False\n",
    "        if arr[i] > arr[i-1]:\n",
    "            decreasing = False\n",
    "        if not increasing and not decreasing:\n",
    "            return False\n",
    "    return True\n",
    "\n",
    "array1 = [1, 2, 3, 4, 5]\n",
    "array2 = [5, 4, 3, 2, 1]\n",
    "array3 = [1, 3, 2, 4, 5]\n",
    "\n",
    "print(is_monotonic(array1))  \n",
    "print(is_monotonic(array2))  \n",
    "print(is_monotonic(array3))  "
   ]
  },
  {
   "cell_type": "code",
   "execution_count": null,
   "id": "549247cd",
   "metadata": {},
   "outputs": [],
   "source": []
  }
 ],
 "metadata": {
  "kernelspec": {
   "display_name": "Python 3 (ipykernel)",
   "language": "python",
   "name": "python3"
  },
  "language_info": {
   "codemirror_mode": {
    "name": "ipython",
    "version": 3
   },
   "file_extension": ".py",
   "mimetype": "text/x-python",
   "name": "python",
   "nbconvert_exporter": "python",
   "pygments_lexer": "ipython3",
   "version": "3.9.12"
  }
 },
 "nbformat": 4,
 "nbformat_minor": 5
}
