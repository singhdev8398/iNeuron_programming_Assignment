{
 "cells": [
  {
   "cell_type": "markdown",
   "id": "ddeae590",
   "metadata": {},
   "source": [
    "# Question 1:\n",
    "    \n",
    "Define a class with a generator which can iterate the numbers, which are divisible by\n",
    "7, between a given range 0 and n."
   ]
  },
  {
   "cell_type": "code",
   "execution_count": 11,
   "id": "2068f8d4",
   "metadata": {},
   "outputs": [
    {
     "name": "stdout",
     "output_type": "stream",
     "text": [
      "0\n",
      "7\n",
      "14\n",
      "21\n",
      "28\n",
      "35\n",
      "42\n",
      "49\n"
     ]
    }
   ],
   "source": [
    "class DivisibleBySeven:\n",
    "    def __init__(self,n):\n",
    "        self.n=n\n",
    "\n",
    "    def generate(self):\n",
    "        for i in range(self.n+1):\n",
    "            if i%7==0:\n",
    "                yield i\n",
    "                \n",
    "divisible_by_seven = DivisibleBySeven(50)\n",
    "\n",
    "\n",
    "for num in divisible_by_seven.generate():\n",
    "    print(num)                \n",
    "            "
   ]
  },
  {
   "cell_type": "markdown",
   "id": "c419309b",
   "metadata": {},
   "source": [
    "# Question 2:\n",
    "    \n",
    "Write a program to compute the frequency of the words from the input. The output\n",
    "should output after sorting the key alphanumerically.\n",
    "\n",
    "Suppose the following input is supplied to the program:\n",
    "    \n",
    "New to Python or choosing between Python 2 and Python 3? Read Python 2 or\n",
    "python3\n",
    "\n",
    "Then, the output should be:\n",
    "    \n",
    "2:2\n",
    "    \n",
    "3.:1\n",
    "    \n",
    "3?:1\n",
    "    \n",
    "New:1\n",
    "    \n",
    "Python:5\n",
    "    \n",
    "Read:1\n",
    "    \n",
    "and:1\n",
    "    \n",
    "between:1\n",
    "    \n",
    "choosing:1\n",
    "    \n",
    "or:2\n",
    "    \n",
    "to:1"
   ]
  },
  {
   "cell_type": "code",
   "execution_count": 2,
   "id": "1350dcfb",
   "metadata": {},
   "outputs": [
    {
     "name": "stdout",
     "output_type": "stream",
     "text": [
      "Enter a sentence: New to Python or choosing between Python 2 and Python 3? Read Python 2 or python3\n",
      "2:2\n",
      "3?:1\n",
      "New:1\n",
      "Python:4\n",
      "Read:1\n",
      "and:1\n",
      "between:1\n",
      "choosing:1\n",
      "or:2\n",
      "python3:1\n",
      "to:1\n"
     ]
    }
   ],
   "source": [
    "from collections import Counter\n",
    "\n",
    "input_str = input(\"Enter a sentence: \")\n",
    "\n",
    "words = input_str.split()\n",
    "\n",
    "word_counts = Counter(words)\n",
    "\n",
    "sorted_words = sorted(word_counts.keys())\n",
    "\n",
    "for word in sorted_words:\n",
    "    print(\"{}:{}\".format(word, word_counts[word]))\n"
   ]
  },
  {
   "cell_type": "markdown",
   "id": "ec4f7706",
   "metadata": {},
   "source": [
    "# Question 3:\n",
    "\n",
    "Define a class Person and its two child classes: Male and Female. All classes have a\n",
    "method &quot;getGender&quot; which can print &quot;Male&quot; for Male class and &quot;Female&quot; for Female\n",
    "class."
   ]
  },
  {
   "cell_type": "code",
   "execution_count": 17,
   "id": "b3a91faf",
   "metadata": {},
   "outputs": [],
   "source": [
    "class person:\n",
    "    def getgender(self):\n",
    "        pass\n",
    "        \n",
    "class male(person):\n",
    "    def getgender(self):\n",
    "        print('male')\n",
    "    \n",
    "class female(person):\n",
    "    def getgender(self):\n",
    "        print('female')\n",
    "        \n",
    "    \n",
    "      "
   ]
  },
  {
   "cell_type": "markdown",
   "id": "f214d83f",
   "metadata": {},
   "source": [
    "# Question 4:\n",
    "    \n",
    "Please write a program to generate all sentences where subject is in ['I', 'You'] and\n",
    "verb is in ['Play', 'Love'] and the object is in ['Hockey','Football']."
   ]
  },
  {
   "cell_type": "code",
   "execution_count": 20,
   "id": "9c8b22b3",
   "metadata": {},
   "outputs": [
    {
     "name": "stdout",
     "output_type": "stream",
     "text": [
      "I Play Hockey\n",
      "I Play Football\n",
      "I Love Hockey\n",
      "I Love Football\n",
      "You Play Hockey\n",
      "You Play Football\n",
      "You Love Hockey\n",
      "You Love Football\n"
     ]
    }
   ],
   "source": [
    "for i in ['I', 'You']:\n",
    "    for j in ['Play', 'Love']:\n",
    "        for k in ['Hockey','Football']:\n",
    "            print(i+' '+j+' '+k)"
   ]
  },
  {
   "cell_type": "markdown",
   "id": "2cc7cce2",
   "metadata": {},
   "source": [
    "# Question 5:\n",
    "    \n",
    "Please write a program to compress and decompress the string 'hello world!hello\n",
    "world!hello world!hello world'."
   ]
  },
  {
   "cell_type": "code",
   "execution_count": 23,
   "id": "02b722a1",
   "metadata": {},
   "outputs": [
    {
     "name": "stdout",
     "output_type": "stream",
     "text": [
      "b'x\\x9c\\xcbH\\xcd\\xc9\\xc9W(\\xcf/\\xcaIQ\\xcc \\xcc\\x06\\x00\\xabf\\x11\\xd4'\n",
      "hello world!hello world!hello world!hello world\n"
     ]
    }
   ],
   "source": [
    "import zlib\n",
    "\n",
    "# Compress the string\n",
    "compressed_data = zlib.compress(b'hello world!hello world!hello world!hello world')\n",
    "\n",
    "# Print the compressed data\n",
    "print(compressed_data)\n",
    "\n",
    "# Decompress the data\n",
    "decompressed_data = zlib.decompress(compressed_data)\n",
    "\n",
    "# Print the original data\n",
    "print(decompressed_data.decode())"
   ]
  },
  {
   "cell_type": "markdown",
   "id": "4e4a68ee",
   "metadata": {},
   "source": [
    "# Question 6:\n",
    "    \n",
    "Please write a binary search function which searches an item in a sorted list. The\n",
    "function should return the index of element to be searched in the list."
   ]
  },
  {
   "cell_type": "code",
   "execution_count": 24,
   "id": "5c4b0643",
   "metadata": {},
   "outputs": [],
   "source": [
    "def binary_search(arr, x):\n",
    "    \"\"\"\n",
    "    Searches for the element x in the sorted list arr using binary search.\n",
    "    Returns the index of the element if found, else returns -1.\n",
    "    \"\"\"\n",
    "    low = 0\n",
    "    high = len(arr) - 1\n",
    "\n",
    "    while low <= high:\n",
    "        mid = (low + high) // 2\n",
    "\n",
    "        if arr[mid] == x:\n",
    "            return mid\n",
    "        elif arr[mid] < x:\n",
    "            low = mid + 1\n",
    "        else:\n",
    "            high = mid - 1\n",
    "\n",
    "    return -1\n"
   ]
  },
  {
   "cell_type": "code",
   "execution_count": 25,
   "id": "303f0b0c",
   "metadata": {},
   "outputs": [
    {
     "name": "stdout",
     "output_type": "stream",
     "text": [
      "Element found at index 2\n"
     ]
    }
   ],
   "source": [
    "my_list = [1, 3, 5, 7, 9]\n",
    "item_to_search = 5\n",
    "\n",
    "result = binary_search(my_list, item_to_search)\n",
    "\n",
    "if result != -1:\n",
    "    print(f\"Element found at index {result}\")\n",
    "else:\n",
    "    print(\"Element not found\")\n"
   ]
  },
  {
   "cell_type": "code",
   "execution_count": null,
   "id": "881b99ea",
   "metadata": {},
   "outputs": [],
   "source": []
  }
 ],
 "metadata": {
  "kernelspec": {
   "display_name": "Python 3 (ipykernel)",
   "language": "python",
   "name": "python3"
  },
  "language_info": {
   "codemirror_mode": {
    "name": "ipython",
    "version": 3
   },
   "file_extension": ".py",
   "mimetype": "text/x-python",
   "name": "python",
   "nbconvert_exporter": "python",
   "pygments_lexer": "ipython3",
   "version": "3.9.12"
  }
 },
 "nbformat": 4,
 "nbformat_minor": 5
}
