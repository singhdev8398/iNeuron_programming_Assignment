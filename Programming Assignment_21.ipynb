{
 "cells": [
  {
   "cell_type": "markdown",
   "id": "70dd44f1",
   "metadata": {},
   "source": [
    "# Question1\n",
    "\n",
    "Write a function that takes a list and a number as arguments. Add the number to the end of\n",
    "the list, then remove the first element of the list. The function should then return the updated\n",
    "list.\n",
    "\n",
    "# Examples\n",
    "\n",
    "next_in_line([5, 6, 7, 8, 9], 1) ➞ [6, 7, 8, 9, 1]\n",
    "\n",
    "next_in_line([7, 6, 3, 23, 17], 10) ➞ [6, 3, 23, 17, 10]\n",
    "\n",
    "next_in_line([1, 10, 20, 42 ], 6) ➞ [10, 20, 42, 6]\n",
    "\n",
    "next_in_line([], 6) ➞ 'No list has been selected'"
   ]
  },
  {
   "cell_type": "code",
   "execution_count": 1,
   "id": "49510912",
   "metadata": {},
   "outputs": [],
   "source": [
    "def next_in_line(lst, number):\n",
    "    lst.append(number)\n",
    "    lst.pop(0)\n",
    "    return lst"
   ]
  },
  {
   "cell_type": "code",
   "execution_count": 2,
   "id": "6df3c6c0",
   "metadata": {},
   "outputs": [
    {
     "data": {
      "text/plain": [
       "[6, 3, 23, 17, 10]"
      ]
     },
     "execution_count": 2,
     "metadata": {},
     "output_type": "execute_result"
    }
   ],
   "source": [
    "next_in_line([7, 6, 3, 23, 17], 10)"
   ]
  },
  {
   "cell_type": "markdown",
   "id": "bdd88f6d",
   "metadata": {},
   "source": [
    "# Question2\n",
    "\n",
    "Create the function that takes a list of dictionaries and returns the sum of people's budgets.\n",
    "\n",
    "# Examples\n",
    "\n",
    "get_budgets([\n",
    "{'name': 'John', 'age': 21, 'budget': 23000 },\n",
    "{ 'name': 'Steve', age: 32, 'budget': 40000 },\n",
    "{ 'name': 'Martin', 'age': 16, 'budget': 2700 }\n",
    "]) ➞ 65700\n",
    "\n",
    "get_budgets([\n",
    "{ 'name':'John', 'age': 21,'budget': 29000 },\n",
    "{'name': 'Steve', 'age': 32, 'budget': 32000 },\n",
    "{ 'name':'Martin', 'age': 16,'budget': 1600 }\n",
    "]) ➞ 62600"
   ]
  },
  {
   "cell_type": "code",
   "execution_count": 3,
   "id": "099b0f93",
   "metadata": {},
   "outputs": [],
   "source": [
    "def get_budgets(persons):\n",
    "    total_budget = 0\n",
    "    for person in persons:\n",
    "        total_budget += person.get('budget', 0)\n",
    "    return total_budget"
   ]
  },
  {
   "cell_type": "code",
   "execution_count": 5,
   "id": "3818a1c8",
   "metadata": {},
   "outputs": [
    {
     "data": {
      "text/plain": [
       "65700"
      ]
     },
     "execution_count": 5,
     "metadata": {},
     "output_type": "execute_result"
    }
   ],
   "source": [
    "get_budgets([ {'name': 'John', 'age': 21, 'budget': 23000 }, { 'name': 'Steve', 'age': 32, 'budget': 40000 }, { 'name': 'Martin', 'age': 16, 'budget': 2700 } ])"
   ]
  },
  {
   "cell_type": "markdown",
   "id": "83ead03d",
   "metadata": {},
   "source": [
    "# Question3\n",
    "\n",
    "Create a function that takes a string and returns a string with its letters in alphabetical order.\n",
    "\n",
    "# Examples\n",
    "\n",
    "alphabet_soup('hello') ➞ 'ehllo'\n",
    "\n",
    "alphabet_soup('edabit') ➞ 'abdeit'\n",
    "\n",
    "alphabet_soup('hacker') ➞ 'acehkr'\n",
    "\n",
    "alphabet_soup('geek') ➞ 'eegk'\n",
    "\n",
    "alphabet_soup('javascript') ➞ 'aacijprstv'"
   ]
  },
  {
   "cell_type": "code",
   "execution_count": 6,
   "id": "876fe767",
   "metadata": {},
   "outputs": [],
   "source": [
    "def alphabet_soup(input_string):\n",
    "    sorted_string = ''.join(sorted(input_string))\n",
    "    return sorted_string"
   ]
  },
  {
   "cell_type": "code",
   "execution_count": 7,
   "id": "8502f9d0",
   "metadata": {},
   "outputs": [
    {
     "data": {
      "text/plain": [
       "'abdeit'"
      ]
     },
     "execution_count": 7,
     "metadata": {},
     "output_type": "execute_result"
    }
   ],
   "source": [
    "alphabet_soup('edabit')"
   ]
  },
  {
   "cell_type": "markdown",
   "id": "edf82e55",
   "metadata": {},
   "source": [
    "# Question4\n",
    "\n",
    "Suppose that you invest $10,000 for 10 years at an interest rate of 6% compounded monthly.\n",
    "What will be the value of your investment at the end of the 10 year period?\n",
    "\n",
    "Create a function that accepts the principal p, the term in years t, the interest rate r, and the\n",
    "number of compounding periods per year n. The function returns the value at the end of term\n",
    "rounded to the nearest cent.\n",
    "\n",
    "For the example above:\n",
    "    \n",
    "compound_interest(10000, 10, 0.06, 12) ➞ 18193.97\n",
    "\n",
    "Note that the interest rate is given as a decimal and n=12 because with monthly compounding\n",
    "there are 12 periods per year. Compounding can also be done annually, quarterly, weekly, or\n",
    "daily.\n",
    "\n",
    "# Examples\n",
    "\n",
    "compound_interest(100, 1, 0.05, 1) ➞ 105.0\n",
    "\n",
    "compound_interest(3500, 15, 0.1, 4) ➞ 15399.26\n",
    "\n",
    "compound_interest(100000, 20, 0.15, 365) ➞ 2007316.26"
   ]
  },
  {
   "cell_type": "code",
   "execution_count": 8,
   "id": "180c7a44",
   "metadata": {},
   "outputs": [],
   "source": [
    "def compound_interest(p, t, r, n):\n",
    "    value = p * (1 + r/n)**(n*t)\n",
    "    rounded_value = round(value, 2)\n",
    "    return rounded_value"
   ]
  },
  {
   "cell_type": "code",
   "execution_count": 9,
   "id": "cd8e809f",
   "metadata": {},
   "outputs": [
    {
     "data": {
      "text/plain": [
       "105.0"
      ]
     },
     "execution_count": 9,
     "metadata": {},
     "output_type": "execute_result"
    }
   ],
   "source": [
    "compound_interest(100, 1, 0.05, 1) "
   ]
  },
  {
   "cell_type": "markdown",
   "id": "6e4c59a1",
   "metadata": {},
   "source": [
    "# Question5\n",
    "\n",
    "Write a function that takes a list of elements and returns only the integers.\n",
    "\n",
    "# Examples\n",
    "\n",
    "return_only_integer([9, 2, 'space', 'car', 'lion', 16]) ➞ [9, 2, 16]\n",
    "\n",
    "return_only_integer(['hello', 81,'basketball', 123, 'fox]') ➞ [81, 123]\n",
    "                     \n",
    "return_only_integer([10, '121', 56, 20,'car', 3,'lion']) ➞ [10, 56, 20,3]\n",
    "                     \n",
    "return_only_integer(['String', True, 3.3, 1]) ➞ [1]"
   ]
  },
  {
   "cell_type": "code",
   "execution_count": 10,
   "id": "2b4898d3",
   "metadata": {},
   "outputs": [],
   "source": [
    "def return_only_integer(elements):\n",
    "    integers = [x for x in elements if isinstance(x, int)]\n",
    "    return integers\n"
   ]
  },
  {
   "cell_type": "code",
   "execution_count": 11,
   "id": "32bbfd77",
   "metadata": {},
   "outputs": [
    {
     "data": {
      "text/plain": [
       "[10, 56, 20, 3]"
      ]
     },
     "execution_count": 11,
     "metadata": {},
     "output_type": "execute_result"
    }
   ],
   "source": [
    "return_only_integer([10, '121', 56, 20,'car', 3,'lion']) "
   ]
  },
  {
   "cell_type": "code",
   "execution_count": null,
   "id": "c0c327a1",
   "metadata": {},
   "outputs": [],
   "source": []
  }
 ],
 "metadata": {
  "kernelspec": {
   "display_name": "Python 3 (ipykernel)",
   "language": "python",
   "name": "python3"
  },
  "language_info": {
   "codemirror_mode": {
    "name": "ipython",
    "version": 3
   },
   "file_extension": ".py",
   "mimetype": "text/x-python",
   "name": "python",
   "nbconvert_exporter": "python",
   "pygments_lexer": "ipython3",
   "version": "3.10.9"
  }
 },
 "nbformat": 4,
 "nbformat_minor": 5
}
