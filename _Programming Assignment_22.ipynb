{
 "cells": [
  {
   "cell_type": "markdown",
   "id": "a4d2dff7",
   "metadata": {},
   "source": [
    "# Question1 \n",
    "\n",
    "Create a function that takes three parameters where:\n",
    "    \n",
    "     x is the start of the range (inclusive).\n",
    "     y is the end of the range (inclusive).\n",
    "     n is the divisor to be checked against.\n",
    "        \n",
    "Return an ordered list with numbers in the range that are divisible by the third parameter n.\n",
    "\n",
    "Return an empty list if there are no numbers that are divisible by n.\n",
    "\n",
    "# Examples\n",
    "\n",
    "list_operation(1, 10, 3) ➞ [3, 6, 9]\n",
    "\n",
    "list_operation(7, 9, 2) ➞ [8]\n",
    "\n",
    "list_operation(15, 20, 7) ➞ []"
   ]
  },
  {
   "cell_type": "code",
   "execution_count": 1,
   "id": "ba323d3e",
   "metadata": {},
   "outputs": [],
   "source": [
    "def list_operation(x,y,n):\n",
    "    l=[]\n",
    "    for i in range(x,y):\n",
    "        if i%n==0:\n",
    "            l.append(i)\n",
    "    return l        "
   ]
  },
  {
   "cell_type": "code",
   "execution_count": 4,
   "id": "2ba25aa1",
   "metadata": {},
   "outputs": [
    {
     "data": {
      "text/plain": [
       "[8]"
      ]
     },
     "execution_count": 4,
     "metadata": {},
     "output_type": "execute_result"
    }
   ],
   "source": [
    "list_operation(7, 9, 2)"
   ]
  },
  {
   "cell_type": "markdown",
   "id": "4d9f8d94",
   "metadata": {},
   "source": [
    "# Question2 \n",
    "\n",
    "Create a function that takes in two lists and returns True if the second list follows the first list\n",
    "by one element, and False otherwise. In other words, determine if the second list is the first\n",
    "list shifted to the right by 1. \n",
    "\n",
    "# Examples\n",
    "\n",
    "simon_says([1, 2], [5, 1]) ➞ True\n",
    "\n",
    "simon_says([1, 2], [5, 5]) ➞ False\n",
    "\n",
    "simon_says([1, 2, 3, 4, 5], [0, 1, 2, 3, 4]) ➞ True\n",
    "\n",
    "simon_says([1, 2, 3, 4, 5], [5, 5, 1, 2, 3]) ➞ False\n",
    "\n",
    "# Notes\n",
    "\n",
    "Both input lists will be of the same length, and will have a minimum length of 2.\n",
    "\n",
    "The values of the 0-indexed element in the second list and the n-1th indexed element\n",
    "in the first list do not matter."
   ]
  },
  {
   "cell_type": "code",
   "execution_count": 5,
   "id": "09750540",
   "metadata": {},
   "outputs": [],
   "source": [
    "def simon_says(first_list, second_list):\n",
    "    if len(first_list) != len(second_list) - 1:\n",
    "        return False\n",
    "\n",
    "    for i in range(len(first_list)):\n",
    "        if first_list[i] != second_list[i]:\n",
    "            return False\n",
    "\n",
    "    return True\n",
    "\n",
    "    "
   ]
  },
  {
   "cell_type": "code",
   "execution_count": 7,
   "id": "df1fe1fa",
   "metadata": {},
   "outputs": [
    {
     "data": {
      "text/plain": [
       "False"
      ]
     },
     "execution_count": 7,
     "metadata": {},
     "output_type": "execute_result"
    }
   ],
   "source": [
    "simon_says([1, 2, 3, 4, 5], [0, 1, 2, 3, 4])"
   ]
  },
  {
   "cell_type": "markdown",
   "id": "36204498",
   "metadata": {},
   "source": [
    "# Question3 \n",
    "\n",
    "A group of friends have decided to start a secret society. The name will be the first letter of\n",
    "each of their names, sorted in alphabetical order.\n",
    "\n",
    "Create a function that takes in a list of names and returns the name of the secret society.\n",
    "\n",
    "# Examples\n",
    "\n",
    "society_name(['Adam', 'Sarah','Malcolm']) ➞' AMS'\n",
    "\n",
    "society_name(['Harry', 'Newt', 'Luna', 'Cho']) ➞ 'CHLN'\n",
    "\n",
    "society_name(['Phoebe', 'Chandler','Rachel','Ross', 'Monica', 'Joey'])"
   ]
  },
  {
   "cell_type": "code",
   "execution_count": 10,
   "id": "f009a7b3",
   "metadata": {},
   "outputs": [],
   "source": [
    "def society_name(list1):\n",
    "    l=[]\n",
    "    for i in list1:\n",
    "        l.append(i[0])\n",
    "    return (''.join(l))    "
   ]
  },
  {
   "cell_type": "code",
   "execution_count": 11,
   "id": "6df13463",
   "metadata": {},
   "outputs": [
    {
     "data": {
      "text/plain": [
       "'ASM'"
      ]
     },
     "execution_count": 11,
     "metadata": {},
     "output_type": "execute_result"
    }
   ],
   "source": [
    "society_name(['Adam', 'Sarah','Malcolm'])"
   ]
  },
  {
   "cell_type": "markdown",
   "id": "fd6f7f12",
   "metadata": {},
   "source": [
    "# Question4 \n",
    "\n",
    "An isogram is a word that has no duplicate letters. Create a function that takes a string and\n",
    "returns either True or False depending on whether or not it\"s an 'isogram'.\n",
    "\n",
    "# Examples\n",
    "\n",
    "is_isogram('Algorism') ➞ True\n",
    "\n",
    "is_isogram('PasSword') ➞ False\n",
    "\n",
    "#Not case sensitive.\n",
    "\n",
    "is_isogram('Consecutive') ➞ False\n",
    "\n",
    "Notes\n",
    "\n",
    "    * Ignore letter case (should not be case sensitive). \n",
    "    \n",
    "    * All test cases contain valid one word strings."
   ]
  },
  {
   "cell_type": "code",
   "execution_count": 12,
   "id": "205da0c5",
   "metadata": {},
   "outputs": [],
   "source": [
    "def is_isogram(word):\n",
    "    word = word.lower()\n",
    "    unique_letters = set(word)\n",
    "    return len(unique_letters) == len(word)"
   ]
  },
  {
   "cell_type": "code",
   "execution_count": 13,
   "id": "6020eef7",
   "metadata": {},
   "outputs": [
    {
     "data": {
      "text/plain": [
       "False"
      ]
     },
     "execution_count": 13,
     "metadata": {},
     "output_type": "execute_result"
    }
   ],
   "source": [
    "is_isogram('PasSword')"
   ]
  },
  {
   "cell_type": "markdown",
   "id": "f933fa03",
   "metadata": {},
   "source": [
    "# Question5\n",
    "\n",
    "Create a function that takes a string and returns True or False, depending on whether the\n",
    "characters are in order or not.\n",
    "\n",
    "# Examples\n",
    "\n",
    "is_in_order('abc') ➞ True\n",
    "\n",
    "is_in_order('edabit') ➞ False\n",
    "\n",
    "is_in_order(123) ➞ True\n",
    "\n",
    "is_in_order('xyzz') ➞ True\n",
    "Notes\n",
    "You don't have to handle empty strings."
   ]
  },
  {
   "cell_type": "code",
   "execution_count": 15,
   "id": "05eb77f1",
   "metadata": {},
   "outputs": [],
   "source": [
    " def is_in_order(string):\n",
    "    sorted_string = ''.join(sorted(string))\n",
    "    return string == sorted_string"
   ]
  },
  {
   "cell_type": "code",
   "execution_count": 16,
   "id": "43edf8ea",
   "metadata": {},
   "outputs": [
    {
     "data": {
      "text/plain": [
       "False"
      ]
     },
     "execution_count": 16,
     "metadata": {},
     "output_type": "execute_result"
    }
   ],
   "source": [
    "is_in_order('edabit')"
   ]
  },
  {
   "cell_type": "code",
   "execution_count": null,
   "id": "e37839ea",
   "metadata": {},
   "outputs": [],
   "source": []
  }
 ],
 "metadata": {
  "kernelspec": {
   "display_name": "Python 3 (ipykernel)",
   "language": "python",
   "name": "python3"
  },
  "language_info": {
   "codemirror_mode": {
    "name": "ipython",
    "version": 3
   },
   "file_extension": ".py",
   "mimetype": "text/x-python",
   "name": "python",
   "nbconvert_exporter": "python",
   "pygments_lexer": "ipython3",
   "version": "3.10.9"
  }
 },
 "nbformat": 4,
 "nbformat_minor": 5
}
