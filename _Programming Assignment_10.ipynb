{
 "cells": [
  {
   "cell_type": "markdown",
   "id": "930fc58a",
   "metadata": {},
   "source": [
    "# 1. Write a Python program to find sum of elements in list?\n"
   ]
  },
  {
   "cell_type": "code",
   "execution_count": 4,
   "id": "0cce7441",
   "metadata": {},
   "outputs": [
    {
     "data": {
      "text/plain": [
       "15"
      ]
     },
     "execution_count": 4,
     "metadata": {},
     "output_type": "execute_result"
    }
   ],
   "source": [
    "def sum_list(l):\n",
    "    sum=0\n",
    "    for i in l:\n",
    "        sum=sum+i\n",
    "    return sum \n",
    "\n",
    "l=[1,2,3,4,5]\n",
    "sum_list(l)"
   ]
  },
  {
   "cell_type": "markdown",
   "id": "214fd988",
   "metadata": {},
   "source": [
    "# 2. Write a Python program to Multiply all numbers in the list?\n",
    "\n"
   ]
  },
  {
   "cell_type": "code",
   "execution_count": 6,
   "id": "20afe760",
   "metadata": {},
   "outputs": [
    {
     "data": {
      "text/plain": [
       "120"
      ]
     },
     "execution_count": 6,
     "metadata": {},
     "output_type": "execute_result"
    }
   ],
   "source": [
    "def mul_list(l):\n",
    "    multi=1\n",
    "    for i in l:\n",
    "        multi=multi*i\n",
    "    return multi \n",
    "\n",
    "l=[1,2,3,4,5]\n",
    "mul_list(l)"
   ]
  },
  {
   "cell_type": "markdown",
   "id": "b0aaffb1",
   "metadata": {},
   "source": [
    "# 3. Write a Python program to find smallest number in a list?"
   ]
  },
  {
   "cell_type": "code",
   "execution_count": 11,
   "id": "af1fc53c",
   "metadata": {},
   "outputs": [
    {
     "data": {
      "text/plain": [
       "2"
      ]
     },
     "execution_count": 11,
     "metadata": {},
     "output_type": "execute_result"
    }
   ],
   "source": [
    "def smallest(l):\n",
    "    return(min(l))\n",
    "\n",
    "l=[2,3,4,5]\n",
    "smallest(l)\n"
   ]
  },
  {
   "cell_type": "markdown",
   "id": "2da66029",
   "metadata": {},
   "source": [
    "# 4. Write a Python program to find largest number in a list?"
   ]
  },
  {
   "cell_type": "code",
   "execution_count": 12,
   "id": "9fbeb9e3",
   "metadata": {},
   "outputs": [
    {
     "data": {
      "text/plain": [
       "5"
      ]
     },
     "execution_count": 12,
     "metadata": {},
     "output_type": "execute_result"
    }
   ],
   "source": [
    "def largest(l):\n",
    "    return(max(l))\n",
    "\n",
    "l=[2,3,4,5]\n",
    "largest(l)"
   ]
  },
  {
   "cell_type": "markdown",
   "id": "3808b382",
   "metadata": {},
   "source": [
    "# 5. Write a Python program to find second largest number in a list?"
   ]
  },
  {
   "cell_type": "code",
   "execution_count": 3,
   "id": "3d99e8b6",
   "metadata": {},
   "outputs": [
    {
     "data": {
      "text/plain": [
       "4"
      ]
     },
     "execution_count": 3,
     "metadata": {},
     "output_type": "execute_result"
    }
   ],
   "source": [
    "def largest_number(l):\n",
    "    max_num=max(l)\n",
    "    l.remove(max_num)\n",
    "    second_largest= max(l)\n",
    "    return second_largest\n",
    "a=[2,3,4,5]\n",
    "largest_number(a)"
   ]
  },
  {
   "cell_type": "markdown",
   "id": "36962766",
   "metadata": {},
   "source": [
    "# 6. Write a Python program to find N largest elements from a list?"
   ]
  },
  {
   "cell_type": "code",
   "execution_count": 7,
   "id": "e5a19f46",
   "metadata": {},
   "outputs": [
    {
     "name": "stdout",
     "output_type": "stream",
     "text": [
      "The 3 largest elements in the list are: [50, 35, 22]\n"
     ]
    }
   ],
   "source": [
    "numbers = [15, 22, 8, 19, 35, 50, 12]\n",
    "N = 3\n",
    "numbers.sort(reverse=True)\n",
    "print(\"The\", N, \"largest elements in the list are:\", numbers[:N])"
   ]
  },
  {
   "cell_type": "markdown",
   "id": "80074b64",
   "metadata": {},
   "source": [
    "# 7. Write a Python program to print even numbers in a list?"
   ]
  },
  {
   "cell_type": "code",
   "execution_count": 4,
   "id": "fa5035d0",
   "metadata": {},
   "outputs": [
    {
     "name": "stdout",
     "output_type": "stream",
     "text": [
      "2\n",
      "4\n",
      "6\n",
      "8\n",
      "10\n",
      "12\n",
      "14\n",
      "16\n",
      "18\n",
      "20\n",
      "22\n",
      "24\n",
      "26\n",
      "28\n"
     ]
    }
   ],
   "source": [
    "def even_num_list(l):\n",
    "    for i in l:\n",
    "        if i%2==0:\n",
    "            print(i)\n",
    "            \n",
    "            \n",
    "l=[1,2,3,4,5,6,7,8,9,10,11,21,12,13,14,15,16,17,18,19,20,21,22,23,24,25,26,27,28]\n",
    "even_num_list(l)"
   ]
  },
  {
   "cell_type": "markdown",
   "id": "4c8b8318",
   "metadata": {},
   "source": [
    "# 8. Write a Python program to print odd numbers in a List?"
   ]
  },
  {
   "cell_type": "code",
   "execution_count": 5,
   "id": "fb9102d2",
   "metadata": {},
   "outputs": [
    {
     "name": "stdout",
     "output_type": "stream",
     "text": [
      "1\n",
      "3\n",
      "5\n",
      "7\n",
      "9\n",
      "11\n",
      "21\n",
      "13\n",
      "15\n",
      "17\n",
      "19\n",
      "21\n",
      "23\n",
      "25\n",
      "27\n"
     ]
    }
   ],
   "source": [
    "def even_num_list(l):\n",
    "    for i in l:\n",
    "        if i%2!=0:\n",
    "            print(i)\n",
    "            \n",
    "            \n",
    "l=[1,2,3,4,5,6,7,8,9,10,11,21,12,13,14,15,16,17,18,19,20,21,22,23,24,25,26,27,28]\n",
    "even_num_list(l)"
   ]
  },
  {
   "cell_type": "markdown",
   "id": "4d89ffcd",
   "metadata": {},
   "source": [
    "# 9. Write a Python program to Remove empty List from List?"
   ]
  },
  {
   "cell_type": "code",
   "execution_count": 9,
   "id": "c7a4361a",
   "metadata": {},
   "outputs": [
    {
     "name": "stdout",
     "output_type": "stream",
     "text": [
      "List without empty lists: [1, 2, 3, 4]\n"
     ]
    }
   ],
   "source": [
    "my_list = [1, 2, [], 3, [], [], 4]\n",
    "def remove_empty_list(l):\n",
    "     new_list = [x for x in l if x]\n",
    "     print(\"List without empty lists:\", new_list)\n",
    "        \n",
    "remove_empty_list(my_list)        "
   ]
  },
  {
   "cell_type": "markdown",
   "id": "ee550782",
   "metadata": {},
   "source": [
    "# 10. Write a Python program to Cloning or Copying a list?"
   ]
  },
  {
   "cell_type": "code",
   "execution_count": 10,
   "id": "2557ca9c",
   "metadata": {},
   "outputs": [
    {
     "name": "stdout",
     "output_type": "stream",
     "text": [
      "Original list: [1, 2, 3, 4, 5]\n",
      "Copy of list: [1, 2, 3, 4, 5]\n"
     ]
    }
   ],
   "source": [
    "original_list = [1, 2, 3, 4, 5]\n",
    "\n",
    "# Use slicing to create a copy of the list\n",
    "copy_list = original_list[:]\n",
    "\n",
    "# Print both lists to verify that they are separate\n",
    "print(\"Original list:\", original_list)\n",
    "print(\"Copy of list:\", copy_list)"
   ]
  },
  {
   "cell_type": "markdown",
   "id": "15dff56f",
   "metadata": {},
   "source": [
    "# 11. Write a Python program to Count occurrences of an element in a list?"
   ]
  },
  {
   "cell_type": "code",
   "execution_count": 11,
   "id": "89085eaf",
   "metadata": {},
   "outputs": [
    {
     "name": "stdout",
     "output_type": "stream",
     "text": [
      "The element 1 occurs 3 times in the list.\n"
     ]
    }
   ],
   "source": [
    "# Define the list\n",
    "my_list = [1, 2, 3, 1, 4, 1, 5]\n",
    "def count_occurrence(l):\n",
    "        element = 1\n",
    "        count = my_list.count(element)\n",
    "        print(\"The element\", element, \"occurs\", count, \"times in the list.\")\n",
    "        \n",
    "        \n",
    "count_occurrence(my_list)        "
   ]
  },
  {
   "cell_type": "code",
   "execution_count": null,
   "id": "e6469ab2",
   "metadata": {},
   "outputs": [],
   "source": []
  }
 ],
 "metadata": {
  "kernelspec": {
   "display_name": "Python 3 (ipykernel)",
   "language": "python",
   "name": "python3"
  },
  "language_info": {
   "codemirror_mode": {
    "name": "ipython",
    "version": 3
   },
   "file_extension": ".py",
   "mimetype": "text/x-python",
   "name": "python",
   "nbconvert_exporter": "python",
   "pygments_lexer": "ipython3",
   "version": "3.9.12"
  }
 },
 "nbformat": 4,
 "nbformat_minor": 5
}
