{
 "cells": [
  {
   "cell_type": "markdown",
   "id": "f2b10e10",
   "metadata": {},
   "source": [
    "# 1. Write a Python program to find words which are greater than given length k?"
   ]
  },
  {
   "cell_type": "code",
   "execution_count": 37,
   "id": "8671dd12",
   "metadata": {},
   "outputs": [
    {
     "data": {
      "text/plain": [
       "['Hello', 'Devendra', 'Singh']"
      ]
     },
     "execution_count": 37,
     "metadata": {},
     "output_type": "execute_result"
    }
   ],
   "source": [
    "def find_words_greater_than_k(sentence, k):\n",
    "    \"\"\"\n",
    "    Finds words in the given sentence greater than length k and returns them as a list\n",
    "    \"\"\"\n",
    "    words = sentence.split()\n",
    "    \n",
    "    filtered_words = [word for word in words if len(word) > k]\n",
    "    \n",
    "    return filtered_words\n",
    "k=4\n",
    "s='Hello I am Devendra Singh'\n",
    "find_words_greater_than_k(s,k)"
   ]
  },
  {
   "cell_type": "markdown",
   "id": "b8014987",
   "metadata": {},
   "source": [
    "# 2. Write a Python program for removing i-th character from a string?"
   ]
  },
  {
   "cell_type": "code",
   "execution_count": 39,
   "id": "5111551e",
   "metadata": {},
   "outputs": [
    {
     "data": {
      "text/plain": [
       "'Deendra'"
      ]
     },
     "execution_count": 39,
     "metadata": {},
     "output_type": "execute_result"
    }
   ],
   "source": [
    "def remove_ith_char(string,i):\n",
    "    if i<0 or i>=len(string):\n",
    "        return string\n",
    "    else :\n",
    "        return string[:i]+string[i+1:]\n",
    "s=\"Devendra\" \n",
    "remove_ith_char(s,2)"
   ]
  },
  {
   "cell_type": "markdown",
   "id": "f94c4a16",
   "metadata": {},
   "source": [
    "# 3. Write a Python program to split and join a string?"
   ]
  },
  {
   "cell_type": "code",
   "execution_count": 6,
   "id": "36aefaf8",
   "metadata": {},
   "outputs": [
    {
     "data": {
      "text/plain": [
       "'Devensra,-Singh'"
      ]
     },
     "execution_count": 6,
     "metadata": {},
     "output_type": "execute_result"
    }
   ],
   "source": [
    "def split_and_join(string):\n",
    "    \"\"\"\n",
    "    Splits the input string into a list of words and then joins them back into a string.\n",
    "\n",
    "    :param string: The input string to split and join.\n",
    "    :return: The joined string.\n",
    "    \"\"\"\n",
    "    words = string.split()  \n",
    "    joined_string = \"-\".join(words)  \n",
    "    return joined_string\n",
    "d=\"Devensra, Singh\"\n",
    "split_and_join(d)"
   ]
  },
  {
   "cell_type": "markdown",
   "id": "51022a34",
   "metadata": {},
   "source": [
    "# 4. Write a Python to check if a given string is binary string or not?"
   ]
  },
  {
   "cell_type": "code",
   "execution_count": 7,
   "id": "2e27ca64",
   "metadata": {},
   "outputs": [
    {
     "name": "stdout",
     "output_type": "stream",
     "text": [
      "The string is a binary string.\n"
     ]
    }
   ],
   "source": [
    "def is_binary_string(string):\n",
    "    \"\"\"\n",
    "    Checks if the input string is a binary string (i.e. contains only 0s and 1s).\n",
    "\n",
    "    :param string: The input string to check.\n",
    "    :return: True if the string is a binary string, False otherwise.\n",
    "    \"\"\"\n",
    "    for char in string:\n",
    "        if char != '0' and char != '1':\n",
    "            return False\n",
    "    return True\n",
    "\n",
    "input_string = \"101010\"\n",
    "is_binary = is_binary_string(input_string)\n",
    "if is_binary:\n",
    "    print(\"The string is a binary string.\")\n",
    "else:\n",
    "    print(\"The string is not a binary string.\")"
   ]
  },
  {
   "cell_type": "markdown",
   "id": "4084052a",
   "metadata": {},
   "source": [
    "# 5. Write a Python program to find uncommon words from two Strings?"
   ]
  },
  {
   "cell_type": "code",
   "execution_count": 8,
   "id": "36320d1c",
   "metadata": {},
   "outputs": [
    {
     "name": "stdout",
     "output_type": "stream",
     "text": [
      "{'fox', 'cat'}\n"
     ]
    }
   ],
   "source": [
    "def uncommon_words(string1, string2):\n",
    "    \"\"\"\n",
    "    Finds the uncommon words between two strings.\n",
    "\n",
    "    :param string1: The first input string.\n",
    "    :param string2: The second input string.\n",
    "    :return: A set of the uncommon words between the two strings.\n",
    "    \"\"\"\n",
    "    words1 = string1.split()\n",
    "    words2 = string2.split()\n",
    "    unique_words = set(words1).symmetric_difference(set(words2))\n",
    "    return unique_words\n",
    "\n",
    "# Example usage\n",
    "input_string1 = \"The quick brown fox jumps over the lazy dog\"\n",
    "input_string2 = \"The quick brown cat jumps over the lazy dog\"\n",
    "uncommon = uncommon_words(input_string1, input_string2)\n",
    "print(uncommon)"
   ]
  },
  {
   "cell_type": "markdown",
   "id": "3b377b71",
   "metadata": {},
   "source": [
    "# 6. Write a Python to find all duplicate characters in string?"
   ]
  },
  {
   "cell_type": "code",
   "execution_count": 10,
   "id": "52be0c2c",
   "metadata": {},
   "outputs": [
    {
     "name": "stdout",
     "output_type": "stream",
     "text": [
      "{'The', 'quick', 'the', 'brown', 'dog', 'jumps', 'lazy', 'over'}\n"
     ]
    }
   ],
   "source": [
    "def duplicate_words(string1, string2):\n",
    "    \n",
    "    words1 = string1.split()\n",
    "    words2 = string2.split()\n",
    "    duplicates_words = set(words1).intersection(set(words2))\n",
    "    return duplicates_words\n",
    "\n",
    "# Example usage\n",
    "input_string1 = \"The quick brown fox jumps over the lazy dog\"\n",
    "input_string2 = \"The quick brown cat jumps over the lazy dog\"\n",
    "duplicates = duplicate_words(input_string1, input_string2)\n",
    "print(duplicates)"
   ]
  },
  {
   "cell_type": "markdown",
   "id": "e38546cc",
   "metadata": {},
   "source": [
    "# 7. Write a Python Program to check if a string contains any special character?"
   ]
  },
  {
   "cell_type": "code",
   "execution_count": 21,
   "id": "ae68057c",
   "metadata": {},
   "outputs": [
    {
     "name": "stdout",
     "output_type": "stream",
     "text": [
      "The string contains special characters.\n"
     ]
    }
   ],
   "source": [
    "import re\n",
    "\n",
    "def contains_special_character(string):\n",
    "    \"\"\"\n",
    "    Checks if the input string contains any special characters.\n",
    "\n",
    "    :param string: The input string to check.\n",
    "    :return: True if the string contains a special character, False otherwise.\n",
    "    \"\"\"\n",
    "    regex = re.compile('[@_!#$%^&*()<>?/\\|}{~:]')\n",
    "    if(regex.search(string) == None):\n",
    "        return False\n",
    "    else:\n",
    "        return True\n",
    "\n",
    "# Example usage\n",
    "input_string = \"Hello, World!\"\n",
    "contains_special = contains_special_character(input_string)\n",
    "if contains_special:\n",
    "    print(\"The string contains special characters.\")\n",
    "else:\n",
    "    print(\"The string does not contain special characters.\")"
   ]
  },
  {
   "cell_type": "code",
   "execution_count": null,
   "id": "e968d020",
   "metadata": {},
   "outputs": [],
   "source": []
  }
 ],
 "metadata": {
  "kernelspec": {
   "display_name": "Python 3 (ipykernel)",
   "language": "python",
   "name": "python3"
  },
  "language_info": {
   "codemirror_mode": {
    "name": "ipython",
    "version": 3
   },
   "file_extension": ".py",
   "mimetype": "text/x-python",
   "name": "python",
   "nbconvert_exporter": "python",
   "pygments_lexer": "ipython3",
   "version": "3.9.12"
  }
 },
 "nbformat": 4,
 "nbformat_minor": 5
}
