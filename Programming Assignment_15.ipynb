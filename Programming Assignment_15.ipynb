{
 "cells": [
  {
   "cell_type": "markdown",
   "id": "99e68c00",
   "metadata": {},
   "source": [
    "# Question 1:\n",
    "    \n",
    "Please write a program using generator to print the numbers which can be divisible by 5 and\n",
    "7 between 0 and n in comma separated form while n is input by console.\n",
    "Example:\n",
    "    \n",
    "If the following n is given as input to the program:\n",
    "    \n",
    "100\n",
    "\n",
    "Then, the output of the program should be:\n",
    "    \n",
    "0,35,70"
   ]
  },
  {
   "cell_type": "code",
   "execution_count": 30,
   "id": "b2bf5b04",
   "metadata": {},
   "outputs": [],
   "source": [
    "def divisible_by_5_7(n):\n",
    "    for i in range(n+1):\n",
    "        if i % 5 == 0 and i % 7 == 0:\n",
    "            yield str(i)"
   ]
  },
  {
   "cell_type": "code",
   "execution_count": 31,
   "id": "2c67d4ba",
   "metadata": {},
   "outputs": [
    {
     "name": "stdout",
     "output_type": "stream",
     "text": [
      "Enter a number: 100\n",
      "0,35,70\n"
     ]
    }
   ],
   "source": [
    "n = int(input(\"Enter a number: \"))\n",
    "result = \",\".join(divisible_by_5_7(n))\n",
    "print(result)"
   ]
  },
  {
   "cell_type": "markdown",
   "id": "c4c180b4",
   "metadata": {},
   "source": [
    "# Question 2:\n",
    "    \n",
    "Please write a program using generator to print the even numbers between 0 and n in comma\n",
    "separated form while n is input by console.\n",
    "\n",
    "Example:\n",
    "    \n",
    "If the following n is given as input to the program:\n",
    "    \n",
    "10\n",
    "\n",
    "Then, the output of the program should be:\n",
    "    \n",
    "0,2,4,6,8,10"
   ]
  },
  {
   "cell_type": "code",
   "execution_count": 32,
   "id": "7f71dde4",
   "metadata": {},
   "outputs": [
    {
     "name": "stdout",
     "output_type": "stream",
     "text": [
      "Enter a number: 10\n",
      "0,2,4,6,8,10\n"
     ]
    }
   ],
   "source": [
    "def evennumber(n):\n",
    "    for i in range(n+1):\n",
    "        if i % 2 == 0:\n",
    "            yield str(i)\n",
    "n = int(input(\"Enter a number: \"))\n",
    "result = \",\".join(evennumber(n))\n",
    "print(result)            "
   ]
  },
  {
   "cell_type": "markdown",
   "id": "c33f31ee",
   "metadata": {},
   "source": [
    "# Question 3:\n",
    "    \n",
    "The Fibonacci Sequence is computed based on the following formula:\n",
    "    \n",
    "f(n)=0 if n=0\n",
    "\n",
    "f(n)=1 if n=1\n",
    "\n",
    "f(n)=f(n-1)+f(n-2) if n&gt;1\n",
    "\n",
    "Please write a program using list comprehension to print the Fibonacci Sequence in comma\n",
    "separated form with a given n input by console.\n",
    "\n",
    "Example:\n",
    "    \n",
    "If the following n is given as input to the program:\n",
    "    \n",
    "7\n",
    "\n",
    "Then, the output of the program should be:\n",
    "    \n",
    "0,1,1,2,3,5,8,13"
   ]
  },
  {
   "cell_type": "code",
   "execution_count": 34,
   "id": "7287a711",
   "metadata": {},
   "outputs": [
    {
     "name": "stdout",
     "output_type": "stream",
     "text": [
      "Enter a number: 8\n",
      "[0, 1, 1, 2, 3, 5, 8, 13]\n"
     ]
    }
   ],
   "source": [
    "n = int(input(\"Enter a number: \"))\n",
    "\n",
    "fib = [0, 1]\n",
    "[fib.append(fib[-1] + fib[-2]) for i in range(n-2)]\n",
    "\n",
    "print(fib[:n])\n"
   ]
  },
  {
   "cell_type": "markdown",
   "id": "e2c098b0",
   "metadata": {},
   "source": [
    "# Question 4:\n",
    "    \n",
    "Assuming that we have some email addresses in the \"username@companyname.com\" format,\n",
    "please write program to print the user name of a given email address. Both user names and\n",
    "company names are composed of letters only.\n",
    "\n",
    "Example:\n",
    "    \n",
    "If the following email address is given as input to the program:\n",
    "    \n",
    "john@google.com\n",
    "\n",
    "Then, the output of the program should be:\n",
    "    \n",
    "john"
   ]
  },
  {
   "cell_type": "code",
   "execution_count": 35,
   "id": "0c98127f",
   "metadata": {},
   "outputs": [
    {
     "name": "stdout",
     "output_type": "stream",
     "text": [
      "Enter an email address: username@companyname.com\n",
      "username\n"
     ]
    }
   ],
   "source": [
    "email = input(\"Enter an email address: \")\n",
    "\n",
    "# Split the email address into username and domain parts using the \"@\" symbol as a delimiter\n",
    "username, domain = email.split(\"@\")\n",
    "\n",
    "# Print the username part of the email address\n",
    "print(username)"
   ]
  },
  {
   "cell_type": "markdown",
   "id": "e963e217",
   "metadata": {},
   "source": [
    "# Question 5:\n",
    "    \n",
    "Define a class named Shape and its subclass Square. The Square class has an init function\n",
    "which takes a length as argument. Both classes have a area function which can print the area\n",
    "of the shape where Shape's area is 0 by default."
   ]
  },
  {
   "cell_type": "code",
   "execution_count": 36,
   "id": "d8ad2fc5",
   "metadata": {},
   "outputs": [],
   "source": [
    "class Shape:\n",
    "    def area(self):\n",
    "        return 0\n",
    "\n",
    "\n",
    "class Square(Shape):\n",
    "    def __init__(self, length):\n",
    "        self.length = length\n",
    "\n",
    "    def area(self):\n",
    "        return self.length * self.length"
   ]
  },
  {
   "cell_type": "code",
   "execution_count": 39,
   "id": "b0eea0b1",
   "metadata": {},
   "outputs": [
    {
     "data": {
      "text/plain": [
       "9"
      ]
     },
     "execution_count": 39,
     "metadata": {},
     "output_type": "execute_result"
    }
   ],
   "source": [
    "Square(3).area()"
   ]
  },
  {
   "cell_type": "code",
   "execution_count": null,
   "id": "886f587d",
   "metadata": {},
   "outputs": [],
   "source": []
  }
 ],
 "metadata": {
  "kernelspec": {
   "display_name": "Python 3 (ipykernel)",
   "language": "python",
   "name": "python3"
  },
  "language_info": {
   "codemirror_mode": {
    "name": "ipython",
    "version": 3
   },
   "file_extension": ".py",
   "mimetype": "text/x-python",
   "name": "python",
   "nbconvert_exporter": "python",
   "pygments_lexer": "ipython3",
   "version": "3.9.12"
  }
 },
 "nbformat": 4,
 "nbformat_minor": 5
}
