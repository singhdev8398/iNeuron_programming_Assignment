{
 "cells": [
  {
   "cell_type": "markdown",
   "id": "3855dec4",
   "metadata": {},
   "source": [
    "# 1. Write a Python Program to Find the Factorial of a Number?"
   ]
  },
  {
   "cell_type": "code",
   "execution_count": 7,
   "id": "88936c8f",
   "metadata": {},
   "outputs": [
    {
     "name": "stdout",
     "output_type": "stream",
     "text": [
      "enter the number5\n",
      "120\n"
     ]
    }
   ],
   "source": [
    "n= int(input(\"enter the number\"))\n",
    "fact=1\n",
    "for i in range(1,n+1):\n",
    "    fact=fact*i\n",
    "print(fact)    "
   ]
  },
  {
   "cell_type": "markdown",
   "id": "3bd63ef5",
   "metadata": {},
   "source": [
    "# 2.Write a Python Program to Display the multiplication Table?"
   ]
  },
  {
   "cell_type": "code",
   "execution_count": 7,
   "id": "cc20c469",
   "metadata": {},
   "outputs": [
    {
     "name": "stdout",
     "output_type": "stream",
     "text": [
      "enter the number you find the table10\n",
      "10 * 1 = 10\n",
      "10 * 2 = 20\n",
      "10 * 3 = 30\n",
      "10 * 4 = 40\n",
      "10 * 5 = 50\n",
      "10 * 6 = 60\n",
      "10 * 7 = 70\n",
      "10 * 8 = 80\n",
      "10 * 9 = 90\n",
      "10 * 10 = 100\n"
     ]
    }
   ],
   "source": [
    "n=int(input(\"enter the number you find the table\"))\n",
    "for i in range(1,11):\n",
    "    print(n,\"*\",i,'=',n*i)"
   ]
  },
  {
   "cell_type": "markdown",
   "id": "682efcba",
   "metadata": {},
   "source": [
    "# 3.Write a Python Program to Print the Fibonacci sequence?"
   ]
  },
  {
   "cell_type": "code",
   "execution_count": 28,
   "id": "f8b0cdab",
   "metadata": {},
   "outputs": [
    {
     "name": "stdout",
     "output_type": "stream",
     "text": [
      "Please Enter the Fibonacci Numbers Range = 6\n",
      "0  1  1  2  3  5  \n",
      "The Sum of Fibonacci Series Numbers = 12\n"
     ]
    }
   ],
   "source": [
    "Number = int(input(\"Please Enter the Fibonacci Numbers Range = \"))\n",
    "\n",
    "First = 0\n",
    "Second = 1\n",
    "Sum = 0\n",
    "i = 0\n",
    "while(i <  Number):\n",
    "    print(First, end = '  ')\n",
    "    Sum = Sum + First\n",
    "    Next = First + Second\n",
    "    First = Second\n",
    "    Second = Next\n",
    "    i = i + 1\n",
    "\n",
    "print(\"\\nThe Sum of Fibonacci Series Numbers = %d\" %Sum)\n",
    "    "
   ]
  },
  {
   "cell_type": "code",
   "execution_count": 34,
   "id": "4295a6d5",
   "metadata": {},
   "outputs": [
    {
     "name": "stdout",
     "output_type": "stream",
     "text": [
      "Please Enter the Fibonacci Numbers Range = 40\n",
      "0 1 1 2 3 5 8 13 21 34 55 89 144 233 377 610 987 1597 2584 4181 6765 10946 17711 28657 46368 75025 121393 196418 317811 514229 832040 1346269 2178309 3524578 5702887 9227465 14930352 24157817 39088169 63245986 "
     ]
    }
   ],
   "source": [
    "number = int(input(\"Please Enter the Fibonacci Numbers Range = \"))\n",
    "first = 0\n",
    "second = 1\n",
    "Sum = 0\n",
    "for i in range(0,number):\n",
    "    print(first,end=\" \")\n",
    "    Sum=Sum+first\n",
    "    Next=first+second\n",
    "    first=second\n",
    "    second=Next\n",
    "    "
   ]
  },
  {
   "cell_type": "markdown",
   "id": "16792e93",
   "metadata": {},
   "source": [
    "# 4.Write a Python Program to Check Armstrong Number?"
   ]
  },
  {
   "cell_type": "code",
   "execution_count": 3,
   "id": "f51d4e82",
   "metadata": {},
   "outputs": [
    {
     "name": "stdout",
     "output_type": "stream",
     "text": [
      "enter the number153\n",
      "number is armstrong\n"
     ]
    }
   ],
   "source": [
    "n=int(input(\"enter the number\"))\n",
    "l=len(str(n))\n",
    "Sum=0\n",
    "temp=n\n",
    "while temp>0:\n",
    "    digit = temp % 10\n",
    "    Sum+= digit **l\n",
    "    temp//=10\n",
    "if Sum ==n:\n",
    "    print(\"number is armstrong\")\n",
    "else:\n",
    "    print(\"number is not armstrong\")"
   ]
  },
  {
   "cell_type": "markdown",
   "id": "42f88988",
   "metadata": {},
   "source": [
    "# 5.Write a Python Program to Find Armstrong Number in an Interval?"
   ]
  },
  {
   "cell_type": "code",
   "execution_count": 3,
   "id": "598d739b",
   "metadata": {},
   "outputs": [
    {
     "name": "stdout",
     "output_type": "stream",
     "text": [
      "enter the lower num100\n",
      "enter the upper num200\n",
      "153\n"
     ]
    }
   ],
   "source": [
    "lower =int(input(\"enter the lower num\"))\n",
    "upper =int(input(\"enter the upper num\"))\n",
    "\n",
    "for num in range(lower, upper + 1):\n",
    "    order = len(str(num))\n",
    "    Sum = 0\n",
    "\n",
    "    Temp = num\n",
    "    while Temp > 0:\n",
    "        digit = Temp % 10\n",
    "        Sum += digit ** order\n",
    "        Temp //= 10\n",
    "\n",
    "    if num == Sum:\n",
    "        print(num)"
   ]
  },
  {
   "cell_type": "markdown",
   "id": "781b8a7b",
   "metadata": {},
   "source": [
    "# 6.Write a Python Program to Find the Sum of Natural Numbers?"
   ]
  },
  {
   "cell_type": "code",
   "execution_count": 5,
   "id": "77d576c7",
   "metadata": {},
   "outputs": [
    {
     "name": "stdout",
     "output_type": "stream",
     "text": [
      "enter the number100\n",
      "5050.0\n"
     ]
    }
   ],
   "source": [
    "n=int(input(\"enter the number\"))\n",
    "Sum=(n*(n+1))/2\n",
    "print(Sum)"
   ]
  },
  {
   "cell_type": "code",
   "execution_count": 6,
   "id": "96e63f29",
   "metadata": {},
   "outputs": [
    {
     "name": "stdout",
     "output_type": "stream",
     "text": [
      "enter the number100\n",
      "5050\n"
     ]
    }
   ],
   "source": [
    "n=int(input(\"enter the number\"))\n",
    "Sum=0\n",
    "for i in range(1,n+1):\n",
    "    Sum=Sum+i\n",
    "print(Sum)    "
   ]
  },
  {
   "cell_type": "code",
   "execution_count": null,
   "id": "6beb851f",
   "metadata": {},
   "outputs": [],
   "source": []
  }
 ],
 "metadata": {
  "kernelspec": {
   "display_name": "Python 3 (ipykernel)",
   "language": "python",
   "name": "python3"
  },
  "language_info": {
   "codemirror_mode": {
    "name": "ipython",
    "version": 3
   },
   "file_extension": ".py",
   "mimetype": "text/x-python",
   "name": "python",
   "nbconvert_exporter": "python",
   "pygments_lexer": "ipython3",
   "version": "3.9.12"
  }
 },
 "nbformat": 4,
 "nbformat_minor": 5
}
