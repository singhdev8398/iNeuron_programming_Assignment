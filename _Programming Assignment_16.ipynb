{
 "cells": [
  {
   "cell_type": "markdown",
   "id": "a9fbff6a",
   "metadata": {},
   "source": [
    "# Question1. \n",
    "\n",
    "Write a function that stutters a word as if someone is struggling to read it. The\n",
    "first two letters are repeated twice with an ellipsis ... and space after each, and then the\n",
    "word is pronounced with a question mark ?.\n",
    "\n",
    "Examples\n",
    "\n",
    "stutter('incredible') ➞ 'in... in... incredible'\n",
    "\n",
    "stutter('enthusiastic') ➞ 'en... en... enthusiastic'\n",
    "\n",
    "stutter('outstanding') ➞ 'ou... ou... outstanding?&quot'\n",
    "\n",
    "Hint :- Assume all input is in lower case and at least two characters long."
   ]
  },
  {
   "cell_type": "code",
   "execution_count": 22,
   "id": "e8f8fccc",
   "metadata": {},
   "outputs": [],
   "source": [
    "def stutter(word):\n",
    "    return word[:2] + '... ' + word[:2] + '... ' + word + '?'\n"
   ]
  },
  {
   "cell_type": "code",
   "execution_count": 23,
   "id": "5cb144a4",
   "metadata": {},
   "outputs": [
    {
     "name": "stdout",
     "output_type": "stream",
     "text": [
      "in... in... incredible?\n",
      "en... en... enthusiastic?\n",
      "ou... ou... outstanding?\n"
     ]
    }
   ],
   "source": [
    "print(stutter('incredible')) # 'in... in... incredible'\n",
    "print(stutter('enthusiastic')) # 'en... en... enthusiastic'\n",
    "print(stutter('outstanding')) # 'ou... ou... outstanding?'\n"
   ]
  },
  {
   "cell_type": "markdown",
   "id": "a21c9a57",
   "metadata": {},
   "source": [
    "# Question 2.\n",
    "Create a function that takes an angle in radians and returns the corresponding\n",
    "angle in degrees rounded to one decimal place.\n",
    "\n",
    "Examples\n",
    "\n",
    "radians_to_degrees(1) ➞ 57.3\n",
    "\n",
    "radians_to_degrees(20) ➞ 1145.9\n",
    "\n",
    "radians_to_degrees(50) ➞ 2864.8\n"
   ]
  },
  {
   "cell_type": "code",
   "execution_count": 24,
   "id": "f6af69c8",
   "metadata": {},
   "outputs": [
    {
     "name": "stdout",
     "output_type": "stream",
     "text": [
      "57.3\n",
      "1145.9\n",
      "2864.8\n"
     ]
    }
   ],
   "source": [
    "import math\n",
    "\n",
    "def radians_to_degrees(rad):\n",
    "    deg = rad * 180 / math.pi\n",
    "    return round(deg, 1)\n",
    "print(radians_to_degrees(1))\n",
    "print(radians_to_degrees(20)) \n",
    "print(radians_to_degrees(50)) "
   ]
  },
  {
   "cell_type": "markdown",
   "id": "dd586187",
   "metadata": {},
   "source": [
    "# Question 3. \n",
    "\n",
    "In this challenge, establish if a given integer num is a Curzon number. If 1 plus\n",
    "2 elevated to num is exactly divisible by 1 plus 2 multiplied by num, then num is a Curzon\n",
    "number.\n",
    "\n",
    "Given a non-negative integer num, implement a function that returns True if num is a Curzon\n",
    "number, or False otherwise.\n",
    "\n",
    "Examples\n",
    "\n",
    "is_curzon(5) ➞ True\n",
    "\n",
    "#2 ** 5 + 1 = 33\n",
    "\n",
    "#2 * 5 + 1 = 11\n",
    "\n",
    "#33 is a multiple of 11\n",
    "\n",
    "is_curzon(10) ➞ False\n",
    "\n",
    "#2 ** 10 + 1 = 1025\n",
    "\n",
    "#2 * 10 + 1 = 21\n",
    "\n",
    "#1025 is not a multiple of 21\n",
    "is_curzon(14) ➞ True\n",
    "\n",
    "#2 ** 14 + 1 = 16385\n",
    "\n",
    "#2 * 14 + 1 = 29\n",
    "\n",
    "#16385 is a multiple of 29"
   ]
  },
  {
   "cell_type": "code",
   "execution_count": 28,
   "id": "929d0e82",
   "metadata": {},
   "outputs": [
    {
     "name": "stdout",
     "output_type": "stream",
     "text": [
      "True\n"
     ]
    }
   ],
   "source": [
    "def is_curzon(n):\n",
    "    number1=2**n+1\n",
    "    number2=2*n+1\n",
    "    if number1%number2==0:\n",
    "        print('True')\n",
    "    else:\n",
    "        print('False')\n",
    "is_curzon(14)        \n",
    "        "
   ]
  },
  {
   "cell_type": "markdown",
   "id": "c6e568f2",
   "metadata": {},
   "source": [
    "# Question 4.\n",
    "\n",
    "Given the side length x find the area of a hexagon.\n",
    "\n",
    "area=(3*sqrt(3)*s**2)/2\n",
    "\n",
    "Examples\n",
    "\n",
    "area_of_hexagon(1) ➞ 2.6\n",
    "area_of_hexagon(2) ➞ 10.4\n",
    "area_of_hexagon(3) ➞ 23.4"
   ]
  },
  {
   "cell_type": "code",
   "execution_count": 17,
   "id": "b8712435",
   "metadata": {},
   "outputs": [],
   "source": [
    "import numpy as np\n",
    "def area_of_hexagon(s):\n",
    "    area=(3*np.sqrt(3)*s**2)/2\n",
    "    return np.round((area),1)"
   ]
  },
  {
   "cell_type": "code",
   "execution_count": 21,
   "id": "ea3e4a38",
   "metadata": {},
   "outputs": [
    {
     "data": {
      "text/plain": [
       "(2.6, 10.4, 23.4)"
      ]
     },
     "execution_count": 21,
     "metadata": {},
     "output_type": "execute_result"
    }
   ],
   "source": [
    "area_of_hexagon(1),area_of_hexagon(2),area_of_hexagon(3)"
   ]
  },
  {
   "cell_type": "markdown",
   "id": "85f77324",
   "metadata": {},
   "source": [
    "# Question 5. \n",
    "\n",
    "Create a function that returns a base-2 (binary) representation of a base-10\n",
    "\n",
    "(decimal) string number. To convert is simple: ((2) means base-2 and (10) means base-10)\n",
    "    \n",
    "010101001(2) = 1 + 8 + 32 + 128.\n",
    "\n",
    "Going from right to left, the value of the most right bit is 1, now from that every bit to the left\n",
    "\n",
    "will be x2 the value, value of an 8 bit binary numbers are (256, 128, 64, 32, 16, 8, 4, 2, 1).\n",
    "Examples\n",
    "\n",
    "binary(1) ➞ '1'\n",
    "#1*1 = 1\n",
    "\n",
    "binary(5) ➞ '101'\n",
    "\n",
    "#1*1 + 1*4 = 5\n",
    "\n",
    "binary(10) ➞ '1010'\n",
    "\n",
    "#1*2 + 1*8 = 10"
   ]
  },
  {
   "cell_type": "code",
   "execution_count": 29,
   "id": "cdbb4115",
   "metadata": {},
   "outputs": [],
   "source": [
    "def binary(num):\n",
    "    binary_list = []\n",
    "    while num > 0:\n",
    "        num, remainder = divmod(num, 2)\n",
    "        binary_list.append(str(remainder))\n",
    "    binary_list.reverse()\n",
    "    return ''.join(binary_list)\n"
   ]
  },
  {
   "cell_type": "code",
   "execution_count": 31,
   "id": "3bab5501",
   "metadata": {},
   "outputs": [
    {
     "name": "stdout",
     "output_type": "stream",
     "text": [
      "1\n",
      "101\n",
      "1010\n"
     ]
    }
   ],
   "source": [
    "print(binary(1)) \n",
    "print(binary(5)) \n",
    "print(binary(10)) \n"
   ]
  },
  {
   "cell_type": "code",
   "execution_count": null,
   "id": "b1968c99",
   "metadata": {},
   "outputs": [],
   "source": []
  }
 ],
 "metadata": {
  "kernelspec": {
   "display_name": "Python 3 (ipykernel)",
   "language": "python",
   "name": "python3"
  },
  "language_info": {
   "codemirror_mode": {
    "name": "ipython",
    "version": 3
   },
   "file_extension": ".py",
   "mimetype": "text/x-python",
   "name": "python",
   "nbconvert_exporter": "python",
   "pygments_lexer": "ipython3",
   "version": "3.9.12"
  }
 },
 "nbformat": 4,
 "nbformat_minor": 5
}
