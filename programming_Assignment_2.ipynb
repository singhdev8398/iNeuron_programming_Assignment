{
 "cells": [
  {
   "cell_type": "markdown",
   "id": "6630dc17",
   "metadata": {},
   "source": [
    "# 1. Write a Python program to convert kilometers to miles?\n"
   ]
  },
  {
   "cell_type": "code",
   "execution_count": 2,
   "id": "12b6eddd",
   "metadata": {},
   "outputs": [
    {
     "name": "stdout",
     "output_type": "stream",
     "text": [
      "enter the kilometres6\n",
      "3.72822\n"
     ]
    }
   ],
   "source": [
    "#1 kilometre equals 0.62137 miles.\n",
    "k=float(input(\"enter the kilometres\"))\n",
    "conver_fact=0.62137\n",
    "total_miles=k*conver_fact\n",
    "print(total_miles)"
   ]
  },
  {
   "cell_type": "markdown",
   "id": "73ed9e33",
   "metadata": {},
   "source": [
    "# 2. Write a Python program to convert Celsius to Fahrenheit?\n"
   ]
  },
  {
   "cell_type": "code",
   "execution_count": 5,
   "id": "719db04a",
   "metadata": {},
   "outputs": [
    {
     "name": "stdout",
     "output_type": "stream",
     "text": [
      "enter the celsius value37\n",
      "fahrenheit value 98.60000000000001\n"
     ]
    }
   ],
   "source": [
    "# Fahrenheit=(Celsius∗1.8)+32\n",
    "c=float(input(\"enter the celsius value\"))\n",
    "Fahrenheit=(c*1.8)+32\n",
    "print(\"fahrenheit value\",Fahrenheit)"
   ]
  },
  {
   "cell_type": "markdown",
   "id": "d551a3e1",
   "metadata": {},
   "source": [
    "# 3. Write a Python program to display calendar?\n",
    "\n"
   ]
  },
  {
   "cell_type": "code",
   "execution_count": 6,
   "id": "d5ad7e47",
   "metadata": {},
   "outputs": [
    {
     "name": "stdout",
     "output_type": "stream",
     "text": [
      "Enter year: 2020\n",
      "Enter month: 11\n",
      "   November 2020\n",
      "Mo Tu We Th Fr Sa Su\n",
      "                   1\n",
      " 2  3  4  5  6  7  8\n",
      " 9 10 11 12 13 14 15\n",
      "16 17 18 19 20 21 22\n",
      "23 24 25 26 27 28 29\n",
      "30\n",
      "\n"
     ]
    }
   ],
   "source": [
    "import calendar\n",
    "yy = int(input(\"Enter year: \"))\n",
    "mm = int(input(\"Enter month: \"))\n",
    "print(calendar.month(yy, mm))"
   ]
  },
  {
   "cell_type": "markdown",
   "id": "9c3ff56e",
   "metadata": {},
   "source": [
    "# 4. Write a Python program to solve quadratic equation?\n"
   ]
  },
  {
   "cell_type": "code",
   "execution_count": 11,
   "id": "97c22c08",
   "metadata": {},
   "outputs": [
    {
     "name": "stdout",
     "output_type": "stream",
     "text": [
      "solution first 1.0 and solution second -4.0\n"
     ]
    }
   ],
   "source": [
    "# Solve the quadratic equation ax**2 + bx + c = 0\n",
    "# import complex math module\n",
    "import cmath\n",
    "a=1\n",
    "b=3\n",
    "c=-4\n",
    "d=b**2-4*a*c #Disceminant\n",
    "x1=(-b+d**0.5)/2*a\n",
    "x2=(-b-d**0.5)/2*a\n",
    "print(\"solution first {0} and solution second {1}\".format(x1,x2))"
   ]
  },
  {
   "cell_type": "markdown",
   "id": "432d5ff3",
   "metadata": {},
   "source": [
    "# 5. Write a Python program to swap two variables without temp variable?"
   ]
  },
  {
   "cell_type": "code",
   "execution_count": 13,
   "id": "16751db7",
   "metadata": {},
   "outputs": [
    {
     "name": "stdout",
     "output_type": "stream",
     "text": [
      "30 50\n"
     ]
    }
   ],
   "source": [
    "a,b=30,50\n",
    "b,a=a,b\n",
    "print(b,a)"
   ]
  }
 ],
 "metadata": {
  "kernelspec": {
   "display_name": "Python 3 (ipykernel)",
   "language": "python",
   "name": "python3"
  },
  "language_info": {
   "codemirror_mode": {
    "name": "ipython",
    "version": 3
   },
   "file_extension": ".py",
   "mimetype": "text/x-python",
   "name": "python",
   "nbconvert_exporter": "python",
   "pygments_lexer": "ipython3",
   "version": "3.9.12"
  }
 },
 "nbformat": 4,
 "nbformat_minor": 5
}
