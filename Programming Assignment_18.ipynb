{
 "cells": [
  {
   "cell_type": "markdown",
   "id": "58b08aac",
   "metadata": {},
   "source": [
    "# Question 1\n",
    "\n",
    "Create a function that takes a list of non-negative integers and strings and return a new list\n",
    "without the strings.\n",
    "\n",
    "Examples\n",
    "\n",
    "filter_list([1, 2, 'a', 'b']) ➞ [1, 2]\n",
    "\n",
    "filter_list([1,'a', 'b',  0, 15]) ➞ [1, 0, 15]\n",
    "\n",
    "filter_list([1, 2, 'aasf', '1', '123', 123]) ➞ [1, 2, 123]"
   ]
  },
  {
   "cell_type": "code",
   "execution_count": 5,
   "id": "4c8fde8f",
   "metadata": {},
   "outputs": [
    {
     "data": {
      "text/plain": [
       "[1, 2, 123]"
      ]
     },
     "execution_count": 5,
     "metadata": {},
     "output_type": "execute_result"
    }
   ],
   "source": [
    "def filter_list(l):\n",
    "    list=[]\n",
    "    for i in l:\n",
    "        if type(i)==int:\n",
    "            list.append(i)\n",
    "    return list        \n",
    "filter_list([1, 2, 'aasf', '1', '123', 123])      "
   ]
  },
  {
   "cell_type": "markdown",
   "id": "e6b7edd2",
   "metadata": {},
   "source": [
    "# Question 2\n",
    "\n",
    "The 'Reverser' takes a string as input and returns that string in reverse order, with the\n",
    "opposite case.\n",
    "\n",
    "Examples\n",
    "\n",
    "reverse('Hello World') ➞ 'DLROw OLLEh'\n",
    "\n",
    "reverse('ReVeRsE') ➞ 'eSrEvEr'\n",
    "\n",
    "reverse('Radar') ➞ 'RADAr'"
   ]
  },
  {
   "cell_type": "code",
   "execution_count": 21,
   "id": "9820ee67",
   "metadata": {},
   "outputs": [],
   "source": [
    "def reverse(s):\n",
    "    string=s.swapcase()\n",
    "    final_string=string[::-1]\n",
    "    return final_string"
   ]
  },
  {
   "cell_type": "code",
   "execution_count": 23,
   "id": "e66ebe02",
   "metadata": {},
   "outputs": [
    {
     "data": {
      "text/plain": [
       "'eSrEvEr'"
      ]
     },
     "execution_count": 23,
     "metadata": {},
     "output_type": "execute_result"
    }
   ],
   "source": [
    "reverse('ReVeRsE') "
   ]
  },
  {
   "cell_type": "markdown",
   "id": "c6abd6db",
   "metadata": {},
   "source": [
    "# Question 3\n",
    "\n",
    "You can assign variables from lists like this:\n",
    "    \n",
    "lst = [1, 2, 3, 4, 5, 6]\n",
    "\n",
    "first = lst[0]\n",
    "\n",
    "middle = lst[1:-1]\n",
    "\n",
    "last = lst[-1]\n",
    "\n",
    "print(first) ➞ outputs 1\n",
    "\n",
    "print(middle) ➞ outputs [2, 3, 4, 5]\n",
    "\n",
    "print(last) ➞ outputs 6"
   ]
  },
  {
   "cell_type": "code",
   "execution_count": 24,
   "id": "17dd1cd8",
   "metadata": {},
   "outputs": [
    {
     "name": "stdout",
     "output_type": "stream",
     "text": [
      "1\n",
      "[2, 3, 4, 5]\n",
      "6\n"
     ]
    }
   ],
   "source": [
    "lst=[1,2,3,4,5,6]\n",
    "\n",
    "first=lst[0]\n",
    "middle=lst[1:-1]\n",
    "last=lst[-1]\n",
    "\n",
    "print(first)\n",
    "print(middle)\n",
    "print(last)"
   ]
  },
  {
   "cell_type": "markdown",
   "id": "39dc14e8",
   "metadata": {},
   "source": [
    "# Question 4\n",
    "\n",
    "Write a function that calculates the factorial of a number recursively.\n",
    "\n",
    "Examples\n",
    "\n",
    "factorial(5) ➞ 120\n",
    "\n",
    "factorial(3) ➞ 6\n",
    "\n",
    "factorial(1) ➞ 1\n",
    "\n",
    "factorial(0) ➞ 1"
   ]
  },
  {
   "cell_type": "code",
   "execution_count": 1,
   "id": "bed57b09",
   "metadata": {},
   "outputs": [
    {
     "data": {
      "text/plain": [
       "120"
      ]
     },
     "execution_count": 1,
     "metadata": {},
     "output_type": "execute_result"
    }
   ],
   "source": [
    "def factorial(n):\n",
    "    if n==0 or  n==1:\n",
    "        return 1\n",
    "    else:\n",
    "        return n*factorial(n-1)\n",
    "    \n",
    "factorial(5)    "
   ]
  },
  {
   "cell_type": "markdown",
   "id": "5611dabd",
   "metadata": {},
   "source": [
    "# Question 5\n",
    "\n",
    "Write a function that moves all elements of one type to the end of the list.\n",
    "\n",
    "Examples\n",
    "\n",
    "move_to_end([1, 3, 2, 4, 4, 1], 1) ➞ [3, 2, 4, 4, 1, 1]\n",
    "\n",
    "# Move all the 1s to the end of the array.\n",
    "\n",
    "move_to_end([7, 8, 9, 1, 2, 3, 4], 9) ➞ [7, 8, 1, 2, 3, 4, 9]\n",
    "\n",
    "move_to_end(['a', 'a', 'a', 'b'],'a') ➞ ['b','a','a','a']"
   ]
  },
  {
   "cell_type": "code",
   "execution_count": 2,
   "id": "981c79d4",
   "metadata": {},
   "outputs": [],
   "source": [
    "def move_to_end(lst, elem):\n",
    "    \n",
    "    left = 0\n",
    "    right = len(lst) - 1\n",
    "    \n",
    "   \n",
    "    while left < right:\n",
    "        \n",
    "        if lst[left] == elem:\n",
    "            lst[left], lst[right] = lst[right], lst[left]\n",
    "            right -= 1\n",
    "        else:\n",
    "            left += 1\n",
    "    \n",
    "   \n",
    "    return lst\n"
   ]
  },
  {
   "cell_type": "code",
   "execution_count": 3,
   "id": "cdcf4f5d",
   "metadata": {},
   "outputs": [
    {
     "data": {
      "text/plain": [
       "[4, 3, 2, 4, 1, 1]"
      ]
     },
     "execution_count": 3,
     "metadata": {},
     "output_type": "execute_result"
    }
   ],
   "source": [
    "move_to_end([1, 3, 2, 4, 4, 1], 1)"
   ]
  },
  {
   "cell_type": "code",
   "execution_count": 4,
   "id": "05386570",
   "metadata": {},
   "outputs": [
    {
     "data": {
      "text/plain": [
       "['b', 'a', 'a', 'a']"
      ]
     },
     "execution_count": 4,
     "metadata": {},
     "output_type": "execute_result"
    }
   ],
   "source": [
    "move_to_end(['a', 'a', 'a', 'b'],'a')"
   ]
  },
  {
   "cell_type": "code",
   "execution_count": null,
   "id": "8d74d116",
   "metadata": {},
   "outputs": [],
   "source": []
  }
 ],
 "metadata": {
  "kernelspec": {
   "display_name": "Python 3 (ipykernel)",
   "language": "python",
   "name": "python3"
  },
  "language_info": {
   "codemirror_mode": {
    "name": "ipython",
    "version": 3
   },
   "file_extension": ".py",
   "mimetype": "text/x-python",
   "name": "python",
   "nbconvert_exporter": "python",
   "pygments_lexer": "ipython3",
   "version": "3.9.12"
  }
 },
 "nbformat": 4,
 "nbformat_minor": 5
}
