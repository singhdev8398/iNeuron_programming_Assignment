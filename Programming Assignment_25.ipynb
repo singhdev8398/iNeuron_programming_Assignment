{
 "cells": [
  {
   "cell_type": "markdown",
   "id": "7379416b",
   "metadata": {},
   "source": [
    "# Question1\n",
    "\n",
    "Create a function that takes three integer arguments (a, b, c) and returns the amount of\n",
    "integers which are of equal value.\n",
    "\n",
    "Examples\n",
    "\n",
    "equal(3, 4, 3) ➞ 2\n",
    "\n",
    "equal(1, 1, 1) ➞ 3\n",
    "\n",
    "equal(3, 4, 1) ➞ 0\n",
    "\n",
    "Notes\n",
    "\n",
    "Your function must return 0, 2 or 3."
   ]
  },
  {
   "cell_type": "code",
   "execution_count": 5,
   "id": "e490c906",
   "metadata": {},
   "outputs": [],
   "source": [
    "def equal(a, b, c):\n",
    "    count = 0\n",
    "    if a == b:\n",
    "        count += 1\n",
    "    if b == c:\n",
    "        count += 1\n",
    "    if a == c:\n",
    "        count += 1\n",
    "    return count\n",
    "    "
   ]
  },
  {
   "cell_type": "code",
   "execution_count": 6,
   "id": "6c9e06f9",
   "metadata": {},
   "outputs": [
    {
     "data": {
      "text/plain": [
       "0"
      ]
     },
     "execution_count": 6,
     "metadata": {},
     "output_type": "execute_result"
    }
   ],
   "source": [
    "equal(3, 4, 1)"
   ]
  },
  {
   "cell_type": "markdown",
   "id": "15f547da",
   "metadata": {},
   "source": [
    "# Question2\n",
    "\n",
    "Write a function that converts a dictionary into a list of keys-values tuples.\n",
    "\n",
    "Examples\n",
    "\n",
    "dict_to_list({'D': 1,'B': 2,'C': 3}) ➞ [('B', 2), ('C', 3), ('D', 1)]\n",
    "\n",
    "dict_to_list({'likes': 2,'dislikes': 3,'followers': 10}) ➞ [('likes', 3), ('dislikes', 10), 'followers', 2)]\n",
    "\n",
    "Notes\n",
    "\n",
    "Return the elements in the list in alphabetical order."
   ]
  },
  {
   "cell_type": "code",
   "execution_count": 7,
   "id": "f61e1d54",
   "metadata": {},
   "outputs": [],
   "source": [
    "def dict_to_list(dictionary):\n",
    "    return sorted(dictionary.items())"
   ]
  },
  {
   "cell_type": "code",
   "execution_count": 8,
   "id": "d3d7f5ec",
   "metadata": {},
   "outputs": [
    {
     "data": {
      "text/plain": [
       "[('B', 2), ('C', 3), ('D', 1)]"
      ]
     },
     "execution_count": 8,
     "metadata": {},
     "output_type": "execute_result"
    }
   ],
   "source": [
    "dict_to_list({'D': 1,'B': 2,'C': 3})"
   ]
  },
  {
   "cell_type": "markdown",
   "id": "8754b09a",
   "metadata": {},
   "source": [
    "# Question3\n",
    "\n",
    "Write a function that creates a dictionary with each (key, value) pair being the (lower case,\n",
    "upper case) versions of a letter, respectively.\n",
    "\n",
    "Examples\n",
    "\n",
    "mapping([\"p\",\"s\"]) ➞ {\"p\":\"P\",\"s\":\"S\"  }\n",
    "\n",
    "mapping([\"a\",\"b\",\"c\"]) ➞ {\"a\":\"A\",\"b\":\"B\",\"c\":\"C\"  }\n",
    "\n",
    "mapping([\"a\",\"v\",\"y\",\"z\"]) ➞ { \"a\":\"A\",\"v\":\"V\",\"y\":\"Y\",\"z\":\"Z\" }\n",
    "\n",
    "Notes\n",
    "\n",
    "All of the letters in the input list will always be lowercase."
   ]
  },
  {
   "cell_type": "code",
   "execution_count": 10,
   "id": "46feae26",
   "metadata": {},
   "outputs": [],
   "source": [
    "def mapping(lst):\n",
    "    letter_dict = {}\n",
    "    for letter in lst:  \n",
    "        lowercase = letter.lower()\n",
    "        uppercase = lowercase.upper()\n",
    "        letter_dict[lowercase] = uppercase\n",
    "    return letter_dict"
   ]
  },
  {
   "cell_type": "code",
   "execution_count": 11,
   "id": "62497e5f",
   "metadata": {},
   "outputs": [
    {
     "data": {
      "text/plain": [
       "{'a': 'A', 'v': 'V', 'y': 'Y', 'z': 'Z'}"
      ]
     },
     "execution_count": 11,
     "metadata": {},
     "output_type": "execute_result"
    }
   ],
   "source": [
    "mapping([\"a\",\"v\",\"y\",\"z\"])"
   ]
  },
  {
   "cell_type": "markdown",
   "id": "b82da7d0",
   "metadata": {},
   "source": [
    "# Question4\n",
    "\n",
    "Write a function, that replaces all vowels in a string with a specified vowel.\n",
    "\n",
    "Examples\n",
    "\n",
    "vow_replace(\"apples and bananas\", \"u\") ➞ \"upplus und bununus\"\n",
    "\n",
    "vow_replace(\"cheese casserole\", \"o\") ➞ \"chooso cossorolo\"\n",
    "\n",
    "Note\n",
    "\n",
    "All words will be lowercase. Y is not considered a vowel."
   ]
  },
  {
   "cell_type": "code",
   "execution_count": 12,
   "id": "d44ae05d",
   "metadata": {},
   "outputs": [],
   "source": [
    "def vow_replace(string, new_vowel):\n",
    "    vowels = ['a', 'e', 'i', 'o', 'u', 'A', 'E', 'I', 'O', 'U']\n",
    "    result = \"\"\n",
    "    for char in string:\n",
    "        if char in vowels:\n",
    "            result += new_vowel\n",
    "        else:\n",
    "            result += char\n",
    "    return result"
   ]
  },
  {
   "cell_type": "code",
   "execution_count": 13,
   "id": "d6f133cb",
   "metadata": {},
   "outputs": [
    {
     "data": {
      "text/plain": [
       "'upplus und bununus'"
      ]
     },
     "execution_count": 13,
     "metadata": {},
     "output_type": "execute_result"
    }
   ],
   "source": [
    "vow_replace(\"apples and bananas\", \"u\")"
   ]
  },
  {
   "cell_type": "markdown",
   "id": "862acae5",
   "metadata": {},
   "source": [
    "# Question5\n",
    "\n",
    "Create a function that takes a string as input and capitalizes a letter if its ASCII code is even\n",
    "and returns its lower case version if its ASCII code is odd.\n",
    "\n",
    "Examples\n",
    "\n",
    "ascii_capitalize(\"to be or not to be!\") ➞ \"To Be oR NoT To Be!\"\n",
    "\n",
    "ascii_capitalize(\"THE LITTLE MERMAID\") ➞ \"THe LiTTLe meRmaiD\"\n",
    "\n",
    "ascii_capitalize(\"Oh what a beautiful morning.\") ➞ \"oH wHaT a BeauTiFuLmoRNiNg.\""
   ]
  },
  {
   "cell_type": "code",
   "execution_count": 14,
   "id": "0212a25b",
   "metadata": {},
   "outputs": [],
   "source": [
    "def ascii_capitalize(string):\n",
    "    result = \"\"\n",
    "    for char in string:\n",
    "        if ord(char) % 2 == 0:\n",
    "            result += char.upper()\n",
    "        else:\n",
    "            result += char.lower()\n",
    "    return result\n"
   ]
  },
  {
   "cell_type": "code",
   "execution_count": 15,
   "id": "28a062ab",
   "metadata": {},
   "outputs": [
    {
     "data": {
      "text/plain": [
       "'oH wHaT a BeauTiFuL moRNiNg.'"
      ]
     },
     "execution_count": 15,
     "metadata": {},
     "output_type": "execute_result"
    }
   ],
   "source": [
    "ascii_capitalize(\"Oh what a beautiful morning.\")"
   ]
  },
  {
   "cell_type": "code",
   "execution_count": null,
   "id": "96649030",
   "metadata": {},
   "outputs": [],
   "source": []
  }
 ],
 "metadata": {
  "kernelspec": {
   "display_name": "Python 3 (ipykernel)",
   "language": "python",
   "name": "python3"
  },
  "language_info": {
   "codemirror_mode": {
    "name": "ipython",
    "version": 3
   },
   "file_extension": ".py",
   "mimetype": "text/x-python",
   "name": "python",
   "nbconvert_exporter": "python",
   "pygments_lexer": "ipython3",
   "version": "3.10.9"
  }
 },
 "nbformat": 4,
 "nbformat_minor": 5
}
