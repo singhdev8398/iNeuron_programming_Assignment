{
 "cells": [
  {
   "cell_type": "markdown",
   "id": "a63efddf",
   "metadata": {},
   "source": [
    "# 1. Write a Python program to check if the given number is a Disarium Number?"
   ]
  },
  {
   "cell_type": "code",
   "execution_count": 1,
   "id": "bc9e7b78",
   "metadata": {},
   "outputs": [],
   "source": [
    "def isDisarium(num):\n",
    "    str_num = str(num)\n",
    "    sum = 0\n",
    "    for i in range(len(str_num)):\n",
    "        digit = int(str_num[i])\n",
    "        sum =sum + digit**(i+1)\n",
    "        \n",
    "    if sum==num:\n",
    "        print(num,\"number is Disarium\")\n",
    "    else:\n",
    "        print(num,\"is not Disarum\")\n",
    "        \n",
    "   "
   ]
  },
  {
   "cell_type": "code",
   "execution_count": 4,
   "id": "2690c9aa",
   "metadata": {},
   "outputs": [
    {
     "name": "stdout",
     "output_type": "stream",
     "text": [
      "135 number is Disarium\n"
     ]
    }
   ],
   "source": [
    "isDisarium(135)"
   ]
  },
  {
   "cell_type": "markdown",
   "id": "973459d6",
   "metadata": {},
   "source": [
    "# 2. Write a Python program to print all disarium numbers between 1 to 100?"
   ]
  },
  {
   "cell_type": "code",
   "execution_count": 5,
   "id": "0ff180f0",
   "metadata": {},
   "outputs": [
    {
     "name": "stdout",
     "output_type": "stream",
     "text": [
      "1 number is Disarium\n",
      "2 number is Disarium\n",
      "3 number is Disarium\n",
      "4 number is Disarium\n",
      "5 number is Disarium\n",
      "6 number is Disarium\n",
      "7 number is Disarium\n",
      "8 number is Disarium\n",
      "9 number is Disarium\n",
      "89 number is Disarium\n"
     ]
    }
   ],
   "source": [
    "def isDisarium(num):\n",
    "        str_num = str(num)\n",
    "        sum = 0\n",
    "        for i in range(len(str_num)):\n",
    "            digit = int(str_num[i])\n",
    "            sum =sum + digit**(i+1)\n",
    "        \n",
    "        if sum==num:\n",
    "            print(num,\"number is Disarium\")\n",
    "for i in range(1,101):\n",
    "     isDisarium(i)           "
   ]
  },
  {
   "cell_type": "markdown",
   "id": "846f6150",
   "metadata": {},
   "source": [
    "# 3. Write a Python program to check if the given number is Happy Number?"
   ]
  },
  {
   "cell_type": "code",
   "execution_count": 16,
   "id": "7cfa17a6",
   "metadata": {},
   "outputs": [],
   "source": [
    "def Happynumber(num):\n",
    "    seen=set()\n",
    "    while num !=1:\n",
    "        square_sum=0\n",
    "        for i in str(num):\n",
    "            square_sum=square_sum+int(i)**2\n",
    "        if square_sum in seen:\n",
    "            return False\n",
    "        seen.add(square_sum)\n",
    "        num = square_sum\n",
    "    return True\n",
    "            "
   ]
  },
  {
   "cell_type": "code",
   "execution_count": 18,
   "id": "36620b9b",
   "metadata": {},
   "outputs": [
    {
     "data": {
      "text/plain": [
       "False"
      ]
     },
     "execution_count": 18,
     "metadata": {},
     "output_type": "execute_result"
    }
   ],
   "source": [
    "Happynumber(20)"
   ]
  },
  {
   "cell_type": "markdown",
   "id": "f4b5003b",
   "metadata": {},
   "source": [
    "# 4. Write a Python program to print all happy numbers between 1 and 100?"
   ]
  },
  {
   "cell_type": "code",
   "execution_count": 23,
   "id": "e7482c71",
   "metadata": {},
   "outputs": [
    {
     "name": "stdout",
     "output_type": "stream",
     "text": [
      "1\n",
      "7\n",
      "10\n",
      "13\n",
      "19\n",
      "23\n",
      "28\n",
      "31\n",
      "32\n",
      "44\n",
      "49\n",
      "68\n",
      "70\n",
      "79\n",
      "82\n",
      "86\n",
      "91\n",
      "94\n",
      "97\n",
      "100\n"
     ]
    }
   ],
   "source": [
    "def Happynumber(num):\n",
    "    seen=set()\n",
    "    while num !=1:\n",
    "        square_sum=0\n",
    "        for i in str(num):\n",
    "            square_sum=square_sum+int(i)**2\n",
    "        if square_sum in seen:\n",
    "            return False\n",
    "        seen.add(square_sum)\n",
    "        num = square_sum\n",
    "    return True\n",
    "\n",
    "for i in range(1,101):\n",
    "    if Happynumber(i):\n",
    "        print(i)"
   ]
  },
  {
   "cell_type": "markdown",
   "id": "9708c116",
   "metadata": {},
   "source": [
    "# 5. Write a Python program to determine whether the given number is a Harshad Number?"
   ]
  },
  {
   "cell_type": "code",
   "execution_count": 25,
   "id": "0ab280aa",
   "metadata": {},
   "outputs": [],
   "source": [
    "def Harshadnumber(num):\n",
    "    str_num=str(num)\n",
    "    sum=0\n",
    "    for i in range(len(str_num)):\n",
    "        sum=sum+int(str_num[i])\n",
    "        \n",
    "    if num%sum==0:\n",
    "        print(num,\"the number is Harshad\")\n",
    "    else:\n",
    "        print(num,\"the number is not Harshad\")\n",
    "        "
   ]
  },
  {
   "cell_type": "code",
   "execution_count": 27,
   "id": "4bb6e3a1",
   "metadata": {},
   "outputs": [
    {
     "name": "stdout",
     "output_type": "stream",
     "text": [
      "171 the number is Harshad\n"
     ]
    }
   ],
   "source": [
    "Harshadnumber(171)"
   ]
  },
  {
   "cell_type": "markdown",
   "id": "b08e7ad8",
   "metadata": {},
   "source": [
    "# 6. Write a Python program to print all pronic numbers between 1 and 100?"
   ]
  },
  {
   "cell_type": "code",
   "execution_count": 28,
   "id": "cfdafbc2",
   "metadata": {},
   "outputs": [
    {
     "name": "stdout",
     "output_type": "stream",
     "text": [
      "1 the number is Harshad\n",
      "2 the number is Harshad\n",
      "3 the number is Harshad\n",
      "4 the number is Harshad\n",
      "5 the number is Harshad\n",
      "6 the number is Harshad\n",
      "7 the number is Harshad\n",
      "8 the number is Harshad\n",
      "9 the number is Harshad\n",
      "10 the number is Harshad\n",
      "12 the number is Harshad\n",
      "18 the number is Harshad\n",
      "20 the number is Harshad\n",
      "21 the number is Harshad\n",
      "24 the number is Harshad\n",
      "27 the number is Harshad\n",
      "30 the number is Harshad\n",
      "36 the number is Harshad\n",
      "40 the number is Harshad\n",
      "42 the number is Harshad\n",
      "45 the number is Harshad\n",
      "48 the number is Harshad\n",
      "50 the number is Harshad\n",
      "54 the number is Harshad\n",
      "60 the number is Harshad\n",
      "63 the number is Harshad\n",
      "70 the number is Harshad\n",
      "72 the number is Harshad\n",
      "80 the number is Harshad\n",
      "81 the number is Harshad\n",
      "84 the number is Harshad\n",
      "90 the number is Harshad\n",
      "100 the number is Harshad\n"
     ]
    }
   ],
   "source": [
    "def Harshadnumber(num):\n",
    "    str_num=str(num)\n",
    "    sum=0\n",
    "    for i in range(len(str_num)):\n",
    "        sum=sum+int(str_num[i])\n",
    "        \n",
    "    if num%sum==0:\n",
    "        print(num,\"the number is Harshad\")\n",
    "for i in range(1,101):\n",
    "    if Harshadnumber(i):\n",
    "        print(i)\n",
    "        "
   ]
  },
  {
   "cell_type": "code",
   "execution_count": null,
   "id": "21e6525d",
   "metadata": {},
   "outputs": [],
   "source": []
  }
 ],
 "metadata": {
  "kernelspec": {
   "display_name": "Python 3 (ipykernel)",
   "language": "python",
   "name": "python3"
  },
  "language_info": {
   "codemirror_mode": {
    "name": "ipython",
    "version": 3
   },
   "file_extension": ".py",
   "mimetype": "text/x-python",
   "name": "python",
   "nbconvert_exporter": "python",
   "pygments_lexer": "ipython3",
   "version": "3.9.12"
  }
 },
 "nbformat": 4,
 "nbformat_minor": 5
}
