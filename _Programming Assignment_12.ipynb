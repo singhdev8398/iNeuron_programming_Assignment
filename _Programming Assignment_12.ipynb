{
 "cells": [
  {
   "cell_type": "markdown",
   "id": "b3bd22a0",
   "metadata": {},
   "source": [
    "# 1. Write a Python program to Extract Unique values dictionary values?"
   ]
  },
  {
   "cell_type": "code",
   "execution_count": 13,
   "id": "cd436248",
   "metadata": {},
   "outputs": [
    {
     "data": {
      "text/plain": [
       "{3, 8}"
      ]
     },
     "execution_count": 13,
     "metadata": {},
     "output_type": "execute_result"
    }
   ],
   "source": [
    "def extract_unique(dictionary):\n",
    "    values=dictionary.values()\n",
    "    t=tuple(d.values())\n",
    "    s=set(t)\n",
    "    return s         \n",
    "\n",
    "d={'f':3,'g':8,'y':3}   \n",
    "extract_unique(d)\n",
    "    "
   ]
  },
  {
   "cell_type": "markdown",
   "id": "4ad0fa78",
   "metadata": {},
   "source": [
    "# 2. Write a Python program to find the sum of all items in a dictionary?"
   ]
  },
  {
   "cell_type": "code",
   "execution_count": 22,
   "id": "626c9f21",
   "metadata": {},
   "outputs": [],
   "source": [
    "def sum_all_items(dic):\n",
    "    sum_of_all_items=0\n",
    "    for i in dic.values():\n",
    "        sum_of_all_items=sum_of_all_items+i\n",
    "    return sum_of_all_items    "
   ]
  },
  {
   "cell_type": "code",
   "execution_count": 23,
   "id": "f11db8d7",
   "metadata": {},
   "outputs": [
    {
     "data": {
      "text/plain": [
       "14"
      ]
     },
     "execution_count": 23,
     "metadata": {},
     "output_type": "execute_result"
    }
   ],
   "source": [
    "sum_all_items({'f':3,'g':8,'y':3} )"
   ]
  },
  {
   "cell_type": "markdown",
   "id": "19f25e7d",
   "metadata": {},
   "source": [
    "# 3. Write a Python program to Merging two Dictionaries?"
   ]
  },
  {
   "cell_type": "code",
   "execution_count": 32,
   "id": "313746da",
   "metadata": {},
   "outputs": [],
   "source": [
    "def merging_dictionary(dict1,dict2):\n",
    "    dict1.update(dict2)\n",
    "    return(dict1)"
   ]
  },
  {
   "cell_type": "code",
   "execution_count": 29,
   "id": "a5ace332",
   "metadata": {},
   "outputs": [],
   "source": [
    "d1={'f':3,'g':8,'y':3} \n",
    "d2={'k':3,'l':8,'m':3} "
   ]
  },
  {
   "cell_type": "code",
   "execution_count": 33,
   "id": "0aea4c61",
   "metadata": {},
   "outputs": [
    {
     "data": {
      "text/plain": [
       "{'f': 3, 'g': 8, 'y': 3, 'k': 3, 'l': 8, 'm': 3}"
      ]
     },
     "execution_count": 33,
     "metadata": {},
     "output_type": "execute_result"
    }
   ],
   "source": [
    "merging_dictionary(d1,d2)"
   ]
  },
  {
   "cell_type": "markdown",
   "id": "a11e7a41",
   "metadata": {},
   "source": [
    "# 4. Write a Python program to convert key-values list to flat dictionary?"
   ]
  },
  {
   "cell_type": "code",
   "execution_count": 37,
   "id": "11162d4a",
   "metadata": {},
   "outputs": [
    {
     "data": {
      "text/plain": [
       "{'key1': 1, 'key2': 2, 'key3': 3, 'key4': 4, 'key5': 5, 'key6': 6, 'key7': 7}"
      ]
     },
     "execution_count": 37,
     "metadata": {},
     "output_type": "execute_result"
    }
   ],
   "source": [
    "keys=[\"key1\",\"key2\",\"key3\",\"key4\",\"key5\",\"key6\",\"key7\"]\n",
    "values=[1,2,3,4,5,6,7]\n",
    "dct=zip(keys,values)\n",
    "dictionary=dict(dct)\n",
    "dictionary"
   ]
  },
  {
   "cell_type": "markdown",
   "id": "0d4225ab",
   "metadata": {},
   "source": [
    "# 5. Write a Python program to insertion at the beginning in OrderedDict?"
   ]
  },
  {
   "cell_type": "code",
   "execution_count": 39,
   "id": "8e0cc6ff",
   "metadata": {},
   "outputs": [
    {
     "name": "stdout",
     "output_type": "stream",
     "text": [
      "Original Order:\n",
      "item1 1\n",
      "item2 2\n",
      "item3 3\n",
      "\n",
      "New Order:\n",
      "item1 1\n",
      "item2 2\n",
      "item3 3\n",
      "new_item 0\n"
     ]
    }
   ],
   "source": [
    "from collections import OrderedDict\n",
    "od = OrderedDict()\n",
    "od.update({'item1': 1})\n",
    "od.update({'item2': 2})\n",
    "od.update({'item3': 3})\n",
    "\n",
    "\n",
    "print(\"Original Order:\")\n",
    "for key, value in od.items():\n",
    "    print(key, value)\n",
    "\n",
    "\n",
    "od.update(OrderedDict({'new_item': 0}))\n",
    "\n",
    "\n",
    "print(\"\\nNew Order:\")\n",
    "for key, value in od.items():\n",
    "    print(key, value)"
   ]
  },
  {
   "cell_type": "markdown",
   "id": "e1ff79b5",
   "metadata": {},
   "source": [
    "# 6. Write a Python program to check order of character in string using OrderedDict()?"
   ]
  },
  {
   "cell_type": "code",
   "execution_count": 40,
   "id": "2ff4d425",
   "metadata": {},
   "outputs": [
    {
     "name": "stdout",
     "output_type": "stream",
     "text": [
      "False\n",
      "True\n",
      "True\n",
      "False\n"
     ]
    }
   ],
   "source": [
    "from collections import OrderedDict\n",
    "\n",
    "def check_order(string):\n",
    "    # Create an OrderedDict to store the order of characters\n",
    "    ordered_dict = OrderedDict.fromkeys(string)\n",
    "\n",
    "    # Check if the order of characters in the string is the same as the order in the OrderedDict\n",
    "    return ''.join(ordered_dict.keys()) == string\n",
    "\n",
    "# Test the function\n",
    "string1 = \"hello\"\n",
    "string2 = \"world\"\n",
    "string3 = \"helo\"\n",
    "string4 = \"llheo\"\n",
    "\n",
    "print(check_order(string1))\n",
    "print(check_order(string2))\n",
    "print(check_order(string3))\n",
    "print(check_order(string4))"
   ]
  },
  {
   "cell_type": "markdown",
   "id": "9ae3fff3",
   "metadata": {},
   "source": [
    "# 7. Write a Python program to sort Python Dictionaries by Key or Value?"
   ]
  },
  {
   "cell_type": "code",
   "execution_count": 42,
   "id": "84e5a8b9",
   "metadata": {},
   "outputs": [
    {
     "name": "stdout",
     "output_type": "stream",
     "text": [
      "Sorted by key:  {'a': 4, 'b': 9, 'c': 3}\n",
      "Sorted by value:  {'c': 3, 'a': 4, 'b': 9}\n"
     ]
    }
   ],
   "source": [
    "unsorted_dict = {'c': 3, 'a': 4, 'b': 9}\n",
    "\n",
    "# Sort the dictionary by key\n",
    "sorted_dict_by_key = dict(sorted(unsorted_dict.items()))\n",
    "\n",
    "# Sort the dictionary by value\n",
    "sorted_dict_by_value = dict(sorted(unsorted_dict.items(), key=lambda x: x[1]))\n",
    "\n",
    "# Print the sorted dictionaries\n",
    "print(\"Sorted by key: \", sorted_dict_by_key)\n",
    "print(\"Sorted by value: \", sorted_dict_by_value)"
   ]
  },
  {
   "cell_type": "code",
   "execution_count": null,
   "id": "231869e5",
   "metadata": {},
   "outputs": [],
   "source": []
  }
 ],
 "metadata": {
  "kernelspec": {
   "display_name": "Python 3 (ipykernel)",
   "language": "python",
   "name": "python3"
  },
  "language_info": {
   "codemirror_mode": {
    "name": "ipython",
    "version": 3
   },
   "file_extension": ".py",
   "mimetype": "text/x-python",
   "name": "python",
   "nbconvert_exporter": "python",
   "pygments_lexer": "ipython3",
   "version": "3.9.12"
  }
 },
 "nbformat": 4,
 "nbformat_minor": 5
}
