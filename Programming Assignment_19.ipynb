{
 "cells": [
  {
   "cell_type": "markdown",
   "id": "d35b61f9",
   "metadata": {},
   "source": [
    "# Question1\n",
    "\n",
    "Create a function that takes a string and returns a string in which each character is repeated\n",
    "once."
   ]
  },
  {
   "cell_type": "markdown",
   "id": "f934cead",
   "metadata": {},
   "source": [
    "double_char('String') ➞ 'SSttrriinngg'\n",
    "\n",
    "double_char('Hello World!') ➞ 'HHeelllloo WWoorrlldd!!'\n",
    "\n",
    "double_char('1234!_ ') ➞ '11223344!!__ '"
   ]
  },
  {
   "cell_type": "code",
   "execution_count": 27,
   "id": "4306b584",
   "metadata": {},
   "outputs": [],
   "source": [
    "def double_char(text):\n",
    "    string=''\n",
    "    l=[]\n",
    "    for i in text:\n",
    "        a=i*2\n",
    "        l.append(a)\n",
    "    return(string.join(l))    \n",
    "        "
   ]
  },
  {
   "cell_type": "code",
   "execution_count": 30,
   "id": "8dc34e7c",
   "metadata": {},
   "outputs": [
    {
     "data": {
      "text/plain": [
       "'11223344!!__  '"
      ]
     },
     "execution_count": 30,
     "metadata": {},
     "output_type": "execute_result"
    }
   ],
   "source": [
    "double_char('1234!_ ') "
   ]
  },
  {
   "cell_type": "markdown",
   "id": "0a9af20b",
   "metadata": {},
   "source": [
    "# Question2\n",
    "\n",
    "Create a function that reverses a boolean value and returns the string &quot;boolean expected&quot;\n",
    "if another variable type is given."
   ]
  },
  {
   "cell_type": "markdown",
   "id": "c65e42fa",
   "metadata": {},
   "source": [
    "# Examples\n",
    "\n",
    "reverse(True) ➞ False\n",
    "\n",
    "reverse(False) ➞ True\n",
    "\n",
    "reverse(0) ➞ 'boolean expected'\n",
    "\n",
    "reverse(None) ➞ 'boolean expected'"
   ]
  },
  {
   "cell_type": "code",
   "execution_count": 37,
   "id": "36f7cfeb",
   "metadata": {},
   "outputs": [],
   "source": [
    "def reverse_boolean(value):\n",
    "    if isinstance(value, bool):\n",
    "        return not value\n",
    "    else:\n",
    "        return \"boolean expected\""
   ]
  },
  {
   "cell_type": "code",
   "execution_count": 39,
   "id": "0fbfb8a9",
   "metadata": {},
   "outputs": [
    {
     "data": {
      "text/plain": [
       "'boolean expected'"
      ]
     },
     "execution_count": 39,
     "metadata": {},
     "output_type": "execute_result"
    }
   ],
   "source": [
    "reverse(None)"
   ]
  },
  {
   "cell_type": "markdown",
   "id": "ff75556b",
   "metadata": {},
   "source": [
    "# Question3\n",
    "\n",
    "Create a function that returns the thickness (in meters) of a piece of paper after folding it n\n",
    "number of times. The paper starts off with a thickness of 0.5mm."
   ]
  },
  {
   "cell_type": "markdown",
   "id": "99679a37",
   "metadata": {},
   "source": [
    "# Examples\n",
    "\n",
    "num_layers(1) ➞ '0.001m'\n",
    "# Paper folded once is 1mm (equal to 0.001m)\n",
    "num_layers(4) ➞ '0.008m'\n",
    "# Paper folded 4 times is 8mm (equal to 0.008m)\n",
    "num_layers(21) ➞ '1048.576m'\n",
    "# Paper folded 21 times is 1048576mm (equal to 1048.576m)"
   ]
  },
  {
   "cell_type": "code",
   "execution_count": 40,
   "id": "2bd863f8",
   "metadata": {},
   "outputs": [],
   "source": [
    "def calculate_paper_thickness(fold_count):\n",
    "    thickness_mm = 0.5\n",
    "    for _ in range(fold_count):\n",
    "        thickness_mm *= 2\n",
    "    thickness_m = thickness_mm / 1000\n",
    "    return thickness_m"
   ]
  },
  {
   "cell_type": "code",
   "execution_count": 45,
   "id": "b3734826",
   "metadata": {},
   "outputs": [
    {
     "data": {
      "text/plain": [
       "1048.576"
      ]
     },
     "execution_count": 45,
     "metadata": {},
     "output_type": "execute_result"
    }
   ],
   "source": [
    "calculate_paper_thickness(21)"
   ]
  },
  {
   "cell_type": "markdown",
   "id": "1266624a",
   "metadata": {},
   "source": [
    "# Question4\n",
    "\n",
    "Create a function that takes a single string as argument and returns an ordered list containing\n",
    "the indices of all capital letters in the string.\n",
    "\n",
    "# Examples\n",
    "\n",
    "index_of_caps('eDaBiT') ➞ [1, 3, 5]\n",
    "\n",
    "index_of_caps('eQuINoX') ➞ [1, 3, 4, 6]\n",
    "\n",
    "index_of_caps('determine') ➞ []\n",
    "\n",
    "index_of_caps('STRIKE') ➞ [0, 1, 2, 3, 4, 5]\n",
    "\n",
    "index_of_caps('sUn') ➞ [1]"
   ]
  },
  {
   "cell_type": "code",
   "execution_count": 54,
   "id": "c3eb5f9d",
   "metadata": {},
   "outputs": [],
   "source": [
    "def index_of_caps(text):\n",
    "    l=[]\n",
    "    for i in text:\n",
    "        if i.isupper():\n",
    "            l.append(text.index(i))\n",
    "            \n",
    "    return l\n",
    "            "
   ]
  },
  {
   "cell_type": "code",
   "execution_count": 57,
   "id": "21cb0658",
   "metadata": {},
   "outputs": [
    {
     "data": {
      "text/plain": [
       "[0, 1, 2, 3, 4, 5]"
      ]
     },
     "execution_count": 57,
     "metadata": {},
     "output_type": "execute_result"
    }
   ],
   "source": [
    "index_of_caps('STRIKE') "
   ]
  },
  {
   "cell_type": "markdown",
   "id": "56985b91",
   "metadata": {},
   "source": [
    "# Question5\n",
    "\n",
    "Using list comprehensions, create a function that finds all even numbers from 1 to the given\n",
    "number.\n",
    "\n",
    "Examples\n",
    "\n",
    "find_even_nums(8) ➞ [2, 4, 6, 8]\n",
    "\n",
    "find_even_nums(4) ➞ [2, 4]\n",
    "\n",
    "find_even_nums(2) ➞ [2]"
   ]
  },
  {
   "cell_type": "code",
   "execution_count": 58,
   "id": "03a9b747",
   "metadata": {},
   "outputs": [],
   "source": [
    "def find_even_nums(num):\n",
    "    l=[]\n",
    "    for i in range(1,num+1):\n",
    "        if i%2==0:\n",
    "            l.append(i)\n",
    "            \n",
    "    return l       \n",
    "        "
   ]
  },
  {
   "cell_type": "code",
   "execution_count": 59,
   "id": "a6e66b04",
   "metadata": {},
   "outputs": [
    {
     "data": {
      "text/plain": [
       "[2, 4, 6, 8]"
      ]
     },
     "execution_count": 59,
     "metadata": {},
     "output_type": "execute_result"
    }
   ],
   "source": [
    "find_even_nums(8)"
   ]
  },
  {
   "cell_type": "code",
   "execution_count": 60,
   "id": "f767c442",
   "metadata": {},
   "outputs": [
    {
     "data": {
      "text/plain": [
       "[2, 4]"
      ]
     },
     "execution_count": 60,
     "metadata": {},
     "output_type": "execute_result"
    }
   ],
   "source": [
    "find_even_nums(4)"
   ]
  },
  {
   "cell_type": "code",
   "execution_count": 61,
   "id": "13645f7b",
   "metadata": {},
   "outputs": [
    {
     "data": {
      "text/plain": [
       "[2]"
      ]
     },
     "execution_count": 61,
     "metadata": {},
     "output_type": "execute_result"
    }
   ],
   "source": [
    "find_even_nums(2) "
   ]
  },
  {
   "cell_type": "code",
   "execution_count": null,
   "id": "e30098c0",
   "metadata": {},
   "outputs": [],
   "source": []
  }
 ],
 "metadata": {
  "kernelspec": {
   "display_name": "Python 3 (ipykernel)",
   "language": "python",
   "name": "python3"
  },
  "language_info": {
   "codemirror_mode": {
    "name": "ipython",
    "version": 3
   },
   "file_extension": ".py",
   "mimetype": "text/x-python",
   "name": "python",
   "nbconvert_exporter": "python",
   "pygments_lexer": "ipython3",
   "version": "3.10.9"
  }
 },
 "nbformat": 4,
 "nbformat_minor": 5
}
